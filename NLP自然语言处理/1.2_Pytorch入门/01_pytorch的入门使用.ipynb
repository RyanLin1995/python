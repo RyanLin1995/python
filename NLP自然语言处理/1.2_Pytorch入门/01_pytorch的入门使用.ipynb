{
 "cells": [
  {
   "cell_type": "markdown",
   "metadata": {},
   "source": [
    "## 张量的创建"
   ]
  },
  {
   "cell_type": "code",
   "metadata": {
    "ExecuteTime": {
     "end_time": "2024-12-21T11:31:45.945644Z",
     "start_time": "2024-12-21T11:31:44.330533Z"
    }
   },
   "source": [
    "import torch\n",
    "import numpy as np"
   ],
   "outputs": [],
   "execution_count": 1
  },
  {
   "cell_type": "code",
   "metadata": {
    "ExecuteTime": {
     "end_time": "2024-12-21T11:32:31.591275Z",
     "start_time": "2024-12-21T11:32:31.582776Z"
    }
   },
   "source": [
    "# 创建一个张量\n",
    "torch.tensor([1, 2, 3])"
   ],
   "outputs": [
    {
     "data": {
      "text/plain": [
       "tensor([1, 2, 3])"
      ]
     },
     "execution_count": 2,
     "metadata": {},
     "output_type": "execute_result"
    }
   ],
   "execution_count": 2
  },
  {
   "cell_type": "code",
   "execution_count": 5,
   "metadata": {},
   "outputs": [
    {
     "data": {
      "text/plain": [
       "tensor([[ 0,  1,  2,  3,  4],\n",
       "        [ 5,  6,  7,  8,  9],\n",
       "        [10, 11, 12, 13, 14]], dtype=torch.int32)"
      ]
     },
     "execution_count": 5,
     "metadata": {},
     "output_type": "execute_result"
    }
   ],
   "source": [
    "# 创建一个张量，reshape为3行5列\n",
    "torch.tensor(np.arange(15).reshape(3, 5))"
   ]
  },
  {
   "cell_type": "code",
   "execution_count": 7,
   "metadata": {},
   "outputs": [
    {
     "data": {
      "text/plain": [
       "tensor([[0., 0., 0., 0.],\n",
       "        [0., 0., 0., 0.],\n",
       "        [0., 0., 0., 0.]])"
      ]
     },
     "execution_count": 7,
     "metadata": {},
     "output_type": "execute_result"
    }
   ],
   "source": [
    "# 创建3行4列的空的tensor，会用无用数据进行填充\n",
    "torch.empty([3, 4])"
   ]
  },
  {
   "cell_type": "code",
   "execution_count": 8,
   "metadata": {},
   "outputs": [
    {
     "data": {
      "text/plain": [
       "tensor([[1., 1., 1., 1.],\n",
       "        [1., 1., 1., 1.],\n",
       "        [1., 1., 1., 1.]])"
      ]
     },
     "execution_count": 8,
     "metadata": {},
     "output_type": "execute_result"
    }
   ],
   "source": [
    "# 创建3行4列的全为1的tensor\n",
    "torch.ones([3, 4])"
   ]
  },
  {
   "cell_type": "code",
   "metadata": {
    "ExecuteTime": {
     "end_time": "2024-12-21T11:34:00.021677Z",
     "start_time": "2024-12-21T11:34:00.016355Z"
    }
   },
   "source": [
    "# 创建3行4列的全为0的tensor\n",
    "torch.zeros([3, 4])"
   ],
   "outputs": [
    {
     "data": {
      "text/plain": [
       "tensor([[0., 0., 0., 0.],\n",
       "        [0., 0., 0., 0.],\n",
       "        [0., 0., 0., 0.]])"
      ]
     },
     "execution_count": 3,
     "metadata": {},
     "output_type": "execute_result"
    }
   ],
   "execution_count": 3
  },
  {
   "metadata": {
    "ExecuteTime": {
     "end_time": "2024-12-21T11:34:38.133909Z",
     "start_time": "2024-12-21T11:34:38.127479Z"
    }
   },
   "cell_type": "code",
   "source": [
    "# 创建3行4列的随机值的tensor，随机值的区间是[0, 1)\n",
    "torch.rand([3, 4])"
   ],
   "outputs": [
    {
     "data": {
      "text/plain": [
       "tensor([[0.1537, 0.0841, 0.3353, 0.8021],\n",
       "        [0.1803, 0.8077, 0.3036, 0.8447],\n",
       "        [0.4676, 0.5659, 0.9282, 0.3338]])"
      ]
     },
     "execution_count": 4,
     "metadata": {},
     "output_type": "execute_result"
    }
   ],
   "execution_count": 4
  },
  {
   "metadata": {
    "ExecuteTime": {
     "end_time": "2024-12-21T11:35:16.068608Z",
     "start_time": "2024-12-21T11:35:16.063607Z"
    }
   },
   "cell_type": "code",
   "source": [
    "# 创建3行4列的随机整数的tensor，随机值的区间是[low, high)\n",
    "torch.randint(low=0, high=10, size=[3, 4])"
   ],
   "outputs": [
    {
     "data": {
      "text/plain": [
       "tensor([[9, 9, 1, 1],\n",
       "        [1, 6, 3, 7],\n",
       "        [7, 6, 0, 9]])"
      ]
     },
     "execution_count": 5,
     "metadata": {},
     "output_type": "execute_result"
    }
   ],
   "execution_count": 5
  },
  {
   "metadata": {
    "ExecuteTime": {
     "end_time": "2024-12-21T11:35:41.251787Z",
     "start_time": "2024-12-21T11:35:41.246306Z"
    }
   },
   "cell_type": "code",
   "source": [
    "# 创建3行4列的随机数的tensor，随机值的分布式均值为0，方差为1\n",
    "torch.randn([3, 4])"
   ],
   "outputs": [
    {
     "data": {
      "text/plain": [
       "tensor([[ 0.0098,  1.0248, -0.5660,  0.2890],\n",
       "        [ 0.1075,  0.4909,  0.0323, -2.3621],\n",
       "        [ 0.3862, -1.4218,  0.6919,  0.9508]])"
      ]
     },
     "execution_count": 6,
     "metadata": {},
     "output_type": "execute_result"
    }
   ],
   "execution_count": 6
  },
  {
   "cell_type": "markdown",
   "metadata": {},
   "source": [
    "## 张量的属性和方法"
   ]
  },
  {
   "cell_type": "code",
   "metadata": {
    "ExecuteTime": {
     "end_time": "2024-12-21T11:37:21.249531Z",
     "start_time": "2024-12-21T11:37:21.245817Z"
    }
   },
   "source": [
    "a = torch.tensor([[[1]]])"
   ],
   "outputs": [],
   "execution_count": 8
  },
  {
   "cell_type": "code",
   "metadata": {
    "ExecuteTime": {
     "end_time": "2024-12-21T11:37:22.384830Z",
     "start_time": "2024-12-21T11:37:22.380061Z"
    }
   },
   "source": [
    "# 获取tensor中的数据(当tensor中只有一个元素可用)\n",
    "a.item()"
   ],
   "outputs": [
    {
     "data": {
      "text/plain": [
       "1"
      ]
     },
     "execution_count": 9,
     "metadata": {},
     "output_type": "execute_result"
    }
   ],
   "execution_count": 9
  },
  {
   "cell_type": "code",
   "metadata": {
    "ExecuteTime": {
     "end_time": "2024-12-21T11:37:23.999922Z",
     "start_time": "2024-12-21T11:37:23.996825Z"
    }
   },
   "source": [
    "# 将tensor转换为numpy\n",
    "t = a.numpy()"
   ],
   "outputs": [],
   "execution_count": 10
  },
  {
   "cell_type": "code",
   "metadata": {
    "ExecuteTime": {
     "end_time": "2024-12-21T11:37:27.426442Z",
     "start_time": "2024-12-21T11:37:27.422052Z"
    }
   },
   "source": [
    "# 获取tensor的类型\n",
    "type(t)"
   ],
   "outputs": [
    {
     "data": {
      "text/plain": [
       "numpy.ndarray"
      ]
     },
     "execution_count": 11,
     "metadata": {},
     "output_type": "execute_result"
    }
   ],
   "execution_count": 11
  },
  {
   "cell_type": "code",
   "metadata": {
    "ExecuteTime": {
     "end_time": "2024-12-21T11:37:29.289696Z",
     "start_time": "2024-12-21T11:37:29.286106Z"
    }
   },
   "source": [
    "# 获取形状\n",
    "a.shape"
   ],
   "outputs": [
    {
     "data": {
      "text/plain": [
       "torch.Size([1, 1, 1])"
      ]
     },
     "execution_count": 12,
     "metadata": {},
     "output_type": "execute_result"
    }
   ],
   "execution_count": 12
  },
  {
   "cell_type": "code",
   "metadata": {
    "ExecuteTime": {
     "end_time": "2024-12-21T11:37:31.074478Z",
     "start_time": "2024-12-21T11:37:31.069454Z"
    }
   },
   "source": [
    "# 获取形状\n",
    "a.size()"
   ],
   "outputs": [
    {
     "data": {
      "text/plain": [
       "torch.Size([1, 1, 1])"
      ]
     },
     "execution_count": 13,
     "metadata": {},
     "output_type": "execute_result"
    }
   ],
   "execution_count": 13
  },
  {
   "cell_type": "code",
   "metadata": {
    "ExecuteTime": {
     "end_time": "2024-12-21T11:37:35.480810Z",
     "start_time": "2024-12-21T11:37:35.476605Z"
    }
   },
   "source": "a = torch.tensor(np.arange(30).reshape(3, 2, 5))",
   "outputs": [],
   "execution_count": 14
  },
  {
   "cell_type": "code",
   "metadata": {
    "ExecuteTime": {
     "end_time": "2024-12-21T11:37:37.462898Z",
     "start_time": "2024-12-21T11:37:37.458136Z"
    }
   },
   "source": [
    "a"
   ],
   "outputs": [
    {
     "data": {
      "text/plain": [
       "tensor([[[ 0,  1,  2,  3,  4],\n",
       "         [ 5,  6,  7,  8,  9]],\n",
       "\n",
       "        [[10, 11, 12, 13, 14],\n",
       "         [15, 16, 17, 18, 19]],\n",
       "\n",
       "        [[20, 21, 22, 23, 24],\n",
       "         [25, 26, 27, 28, 29]]])"
      ]
     },
     "execution_count": 15,
     "metadata": {},
     "output_type": "execute_result"
    }
   ],
   "execution_count": 15
  },
  {
   "cell_type": "code",
   "metadata": {
    "ExecuteTime": {
     "end_time": "2024-12-21T11:39:22.941440Z",
     "start_time": "2024-12-21T11:39:22.936546Z"
    }
   },
   "source": "a.size(1)  # 即 reshape 中的 2",
   "outputs": [
    {
     "data": {
      "text/plain": [
       "2"
      ]
     },
     "execution_count": 18,
     "metadata": {},
     "output_type": "execute_result"
    }
   ],
   "execution_count": 18
  },
  {
   "cell_type": "code",
   "metadata": {
    "ExecuteTime": {
     "end_time": "2024-12-21T11:41:02.279248Z",
     "start_time": "2024-12-21T11:41:02.274674Z"
    }
   },
   "source": "a.view([2, 3, 5])",
   "outputs": [
    {
     "data": {
      "text/plain": [
       "tensor([[[ 0,  1,  2,  3,  4],\n",
       "         [ 5,  6,  7,  8,  9],\n",
       "         [10, 11, 12, 13, 14]],\n",
       "\n",
       "        [[15, 16, 17, 18, 19],\n",
       "         [20, 21, 22, 23, 24],\n",
       "         [25, 26, 27, 28, 29]]])"
      ]
     },
     "execution_count": 19,
     "metadata": {},
     "output_type": "execute_result"
    }
   ],
   "execution_count": 19
  },
  {
   "cell_type": "code",
   "metadata": {
    "ExecuteTime": {
     "end_time": "2024-12-21T11:41:05.441137Z",
     "start_time": "2024-12-21T11:41:05.438282Z"
    }
   },
   "source": "b = torch.tensor(np.arange(15).reshape(3, 5))",
   "outputs": [],
   "execution_count": 20
  },
  {
   "cell_type": "code",
   "metadata": {
    "ExecuteTime": {
     "end_time": "2024-12-21T11:41:07.379998Z",
     "start_time": "2024-12-21T11:41:07.374830Z"
    }
   },
   "source": [
    "b"
   ],
   "outputs": [
    {
     "data": {
      "text/plain": [
       "tensor([[ 0,  1,  2,  3,  4],\n",
       "        [ 5,  6,  7,  8,  9],\n",
       "        [10, 11, 12, 13, 14]])"
      ]
     },
     "execution_count": 21,
     "metadata": {},
     "output_type": "execute_result"
    }
   ],
   "execution_count": 21
  },
  {
   "cell_type": "code",
   "metadata": {
    "ExecuteTime": {
     "end_time": "2024-12-21T11:41:24.357168Z",
     "start_time": "2024-12-21T11:41:24.351770Z"
    }
   },
   "source": "b.transpose(0, 1)  #直接交换行和列",
   "outputs": [
    {
     "data": {
      "text/plain": [
       "tensor([[ 0,  5, 10],\n",
       "        [ 1,  6, 11],\n",
       "        [ 2,  7, 12],\n",
       "        [ 3,  8, 13],\n",
       "        [ 4,  9, 14]])"
      ]
     },
     "execution_count": 22,
     "metadata": {},
     "output_type": "execute_result"
    }
   ],
   "execution_count": 22
  },
  {
   "cell_type": "code",
   "metadata": {
    "ExecuteTime": {
     "end_time": "2024-12-21T11:42:39.575462Z",
     "start_time": "2024-12-21T11:42:39.570711Z"
    }
   },
   "source": [
    "# view 类似 numpy 中的 reshape，是一种浅拷贝，仅仅是形状发生改变\n",
    "b.view(5, -1)  #把 b 展开之后等分为5分"
   ],
   "outputs": [
    {
     "data": {
      "text/plain": [
       "tensor([[ 0,  1,  2],\n",
       "        [ 3,  4,  5],\n",
       "        [ 6,  7,  8],\n",
       "        [ 9, 10, 11],\n",
       "        [12, 13, 14]])"
      ]
     },
     "execution_count": 23,
     "metadata": {},
     "output_type": "execute_result"
    }
   ],
   "execution_count": 23
  },
  {
   "cell_type": "code",
   "metadata": {
    "ExecuteTime": {
     "end_time": "2024-12-21T11:42:52.463721Z",
     "start_time": "2024-12-21T11:42:52.459622Z"
    }
   },
   "source": "a  # [3,2,5]",
   "outputs": [
    {
     "data": {
      "text/plain": [
       "tensor([[[ 0,  1,  2,  3,  4],\n",
       "         [ 5,  6,  7,  8,  9]],\n",
       "\n",
       "        [[10, 11, 12, 13, 14],\n",
       "         [15, 16, 17, 18, 19]],\n",
       "\n",
       "        [[20, 21, 22, 23, 24],\n",
       "         [25, 26, 27, 28, 29]]])"
      ]
     },
     "execution_count": 24,
     "metadata": {},
     "output_type": "execute_result"
    }
   ],
   "execution_count": 24
  },
  {
   "cell_type": "code",
   "metadata": {
    "ExecuteTime": {
     "end_time": "2024-12-21T11:43:10.721458Z",
     "start_time": "2024-12-21T11:43:10.716876Z"
    }
   },
   "source": "a.transpose(0, 1)  # [2,3,5]",
   "outputs": [
    {
     "data": {
      "text/plain": [
       "tensor([[[ 0,  1,  2,  3,  4],\n",
       "         [10, 11, 12, 13, 14],\n",
       "         [20, 21, 22, 23, 24]],\n",
       "\n",
       "        [[ 5,  6,  7,  8,  9],\n",
       "         [15, 16, 17, 18, 19],\n",
       "         [25, 26, 27, 28, 29]]])"
      ]
     },
     "execution_count": 25,
     "metadata": {},
     "output_type": "execute_result"
    }
   ],
   "execution_count": 25
  },
  {
   "metadata": {},
   "cell_type": "markdown",
   "source": "### 切片"
  },
  {
   "cell_type": "code",
   "metadata": {
    "ExecuteTime": {
     "end_time": "2024-12-21T11:43:31.322823Z",
     "start_time": "2024-12-21T11:43:31.318623Z"
    }
   },
   "source": "b[1, :]",
   "outputs": [
    {
     "data": {
      "text/plain": [
       "tensor([5, 6, 7, 8, 9])"
      ]
     },
     "execution_count": 26,
     "metadata": {},
     "output_type": "execute_result"
    }
   ],
   "execution_count": 26
  },
  {
   "cell_type": "code",
   "metadata": {
    "ExecuteTime": {
     "end_time": "2024-12-21T11:43:33.301812Z",
     "start_time": "2024-12-21T11:43:33.296948Z"
    }
   },
   "source": [
    "b[1]"
   ],
   "outputs": [
    {
     "data": {
      "text/plain": [
       "tensor([5, 6, 7, 8, 9])"
      ]
     },
     "execution_count": 27,
     "metadata": {},
     "output_type": "execute_result"
    }
   ],
   "execution_count": 27
  },
  {
   "cell_type": "code",
   "metadata": {
    "ExecuteTime": {
     "end_time": "2024-12-21T11:43:34.850907Z",
     "start_time": "2024-12-21T11:43:34.845942Z"
    }
   },
   "source": [
    "b"
   ],
   "outputs": [
    {
     "data": {
      "text/plain": [
       "tensor([[ 0,  1,  2,  3,  4],\n",
       "        [ 5,  6,  7,  8,  9],\n",
       "        [10, 11, 12, 13, 14]])"
      ]
     },
     "execution_count": 28,
     "metadata": {},
     "output_type": "execute_result"
    }
   ],
   "execution_count": 28
  },
  {
   "cell_type": "code",
   "metadata": {
    "ExecuteTime": {
     "end_time": "2024-12-21T11:44:10.766747Z",
     "start_time": "2024-12-21T11:44:10.761738Z"
    }
   },
   "source": "b[:, 1]",
   "outputs": [
    {
     "data": {
      "text/plain": [
       "tensor([ 1,  6, 11])"
      ]
     },
     "execution_count": 29,
     "metadata": {},
     "output_type": "execute_result"
    }
   ],
   "execution_count": 29
  },
  {
   "cell_type": "code",
   "metadata": {
    "ExecuteTime": {
     "end_time": "2024-12-21T11:44:18.332991Z",
     "start_time": "2024-12-21T11:44:18.329892Z"
    }
   },
   "source": "b[:, 1] = 100",
   "outputs": [],
   "execution_count": 30
  },
  {
   "cell_type": "code",
   "metadata": {
    "ExecuteTime": {
     "end_time": "2024-12-21T11:44:20.008845Z",
     "start_time": "2024-12-21T11:44:20.004070Z"
    }
   },
   "source": [
    "b"
   ],
   "outputs": [
    {
     "data": {
      "text/plain": [
       "tensor([[  0, 100,   2,   3,   4],\n",
       "        [  5, 100,   7,   8,   9],\n",
       "        [ 10, 100,  12,  13,  14]])"
      ]
     },
     "execution_count": 31,
     "metadata": {},
     "output_type": "execute_result"
    }
   ],
   "execution_count": 31
  },
  {
   "cell_type": "code",
   "metadata": {
    "ExecuteTime": {
     "end_time": "2024-12-21T11:44:24.746524Z",
     "start_time": "2024-12-21T11:44:24.742918Z"
    }
   },
   "source": "b[-1, -1] = 100",
   "outputs": [],
   "execution_count": 32
  },
  {
   "cell_type": "code",
   "metadata": {
    "ExecuteTime": {
     "end_time": "2024-12-21T11:44:26.037907Z",
     "start_time": "2024-12-21T11:44:26.033964Z"
    }
   },
   "source": [
    "b"
   ],
   "outputs": [
    {
     "data": {
      "text/plain": [
       "tensor([[  0, 100,   2,   3,   4],\n",
       "        [  5, 100,   7,   8,   9],\n",
       "        [ 10, 100,  12,  13, 100]])"
      ]
     },
     "execution_count": 33,
     "metadata": {},
     "output_type": "execute_result"
    }
   ],
   "execution_count": 33
  },
  {
   "cell_type": "code",
   "metadata": {
    "ExecuteTime": {
     "end_time": "2024-12-21T11:44:31.257891Z",
     "start_time": "2024-12-21T11:44:31.253105Z"
    }
   },
   "source": "b[-1, -1]",
   "outputs": [
    {
     "data": {
      "text/plain": [
       "tensor(100)"
      ]
     },
     "execution_count": 34,
     "metadata": {},
     "output_type": "execute_result"
    }
   ],
   "execution_count": 34
  },
  {
   "cell_type": "code",
   "metadata": {
    "ExecuteTime": {
     "end_time": "2024-12-21T11:44:35.965405Z",
     "start_time": "2024-12-21T11:44:35.962346Z"
    }
   },
   "source": "c = {100: 10, 20: 10}",
   "outputs": [],
   "execution_count": 35
  },
  {
   "cell_type": "code",
   "metadata": {
    "ExecuteTime": {
     "end_time": "2024-12-21T11:44:40.013897Z",
     "start_time": "2024-12-21T11:44:40.009792Z"
    }
   },
   "source": [
    "# 使用从 b 中提取的标量值作为索引，访问 c 中对应的元素。\n",
    "c[b.numpy()[-1, -1]]"
   ],
   "outputs": [
    {
     "data": {
      "text/plain": [
       "10"
      ]
     },
     "execution_count": 36,
     "metadata": {},
     "output_type": "execute_result"
    }
   ],
   "execution_count": 36
  },
  {
   "cell_type": "code",
   "metadata": {
    "ExecuteTime": {
     "end_time": "2024-12-21T11:44:42.636644Z",
     "start_time": "2024-12-21T11:44:42.632353Z"
    }
   },
   "source": [
    "b"
   ],
   "outputs": [
    {
     "data": {
      "text/plain": [
       "tensor([[  0, 100,   2,   3,   4],\n",
       "        [  5, 100,   7,   8,   9],\n",
       "        [ 10, 100,  12,  13, 100]])"
      ]
     },
     "execution_count": 37,
     "metadata": {},
     "output_type": "execute_result"
    }
   ],
   "execution_count": 37
  },
  {
   "metadata": {
    "ExecuteTime": {
     "end_time": "2024-12-21T11:46:11.568109Z",
     "start_time": "2024-12-21T11:46:11.563305Z"
    }
   },
   "cell_type": "code",
   "source": [
    "# 获取最大值\n",
    "b.max()"
   ],
   "outputs": [
    {
     "data": {
      "text/plain": [
       "tensor(100)"
      ]
     },
     "execution_count": 38,
     "metadata": {},
     "output_type": "execute_result"
    }
   ],
   "execution_count": 38
  },
  {
   "metadata": {
    "ExecuteTime": {
     "end_time": "2024-12-21T11:46:36.472220Z",
     "start_time": "2024-12-21T11:46:36.467428Z"
    }
   },
   "cell_type": "code",
   "source": [
    "# 获取阶数\n",
    "b.dim()"
   ],
   "outputs": [
    {
     "data": {
      "text/plain": [
       "2"
      ]
     },
     "execution_count": 39,
     "metadata": {},
     "output_type": "execute_result"
    }
   ],
   "execution_count": 39
  },
  {
   "cell_type": "code",
   "metadata": {
    "ExecuteTime": {
     "end_time": "2024-12-21T11:48:25.815484Z",
     "start_time": "2024-12-21T11:48:25.811013Z"
    }
   },
   "source": [
    "# 的作用是获取沿最后一个维度的最大值对应的索引张量\n",
    "b.max(dim=-1)[-1]"
   ],
   "outputs": [
    {
     "data": {
      "text/plain": [
       "tensor([1, 1, 1])"
      ]
     },
     "execution_count": 45,
     "metadata": {},
     "output_type": "execute_result"
    }
   ],
   "execution_count": 45
  },
  {
   "cell_type": "code",
   "metadata": {
    "ExecuteTime": {
     "end_time": "2024-12-21T11:48:13.717687Z",
     "start_time": "2024-12-21T11:48:13.713621Z"
    }
   },
   "source": [
    "b"
   ],
   "outputs": [
    {
     "data": {
      "text/plain": [
       "tensor([[  0, 100,   2,   3,   4],\n",
       "        [  5, 100,   7,   8,   9],\n",
       "        [ 10, 100,  12,  13, 100]])"
      ]
     },
     "execution_count": 43,
     "metadata": {},
     "output_type": "execute_result"
    }
   ],
   "execution_count": 43
  },
  {
   "metadata": {},
   "cell_type": "markdown",
   "source": "### 数据类型"
  },
  {
   "cell_type": "code",
   "metadata": {
    "ExecuteTime": {
     "end_time": "2024-12-21T11:48:45.916594Z",
     "start_time": "2024-12-21T11:48:45.911409Z"
    }
   },
   "source": [
    "# 获取tensor的数据类型\n",
    "torch.FloatTensor([1, 2, 3]).dtype"
   ],
   "outputs": [
    {
     "data": {
      "text/plain": [
       "torch.float32"
      ]
     },
     "execution_count": 46,
     "metadata": {},
     "output_type": "execute_result"
    }
   ],
   "execution_count": 46
  },
  {
   "cell_type": "code",
   "metadata": {
    "ExecuteTime": {
     "end_time": "2024-12-21T11:48:49.267950Z",
     "start_time": "2024-12-21T11:48:49.264817Z"
    }
   },
   "source": "a = torch.tensor([1, 2, 3])",
   "outputs": [],
   "execution_count": 47
  },
  {
   "cell_type": "code",
   "metadata": {
    "ExecuteTime": {
     "end_time": "2024-12-21T11:48:51.688209Z",
     "start_time": "2024-12-21T11:48:51.684141Z"
    }
   },
   "source": [
    "# 创建数据的时候指定类型\n",
    "torch.ones([2, 3], dtype=torch.float32)"
   ],
   "outputs": [
    {
     "data": {
      "text/plain": [
       "tensor([[1., 1., 1.],\n",
       "        [1., 1., 1.]])"
      ]
     },
     "execution_count": 48,
     "metadata": {},
     "output_type": "execute_result"
    }
   ],
   "execution_count": 48
  },
  {
   "cell_type": "code",
   "metadata": {
    "ExecuteTime": {
     "end_time": "2024-12-21T11:48:55.247338Z",
     "start_time": "2024-12-21T11:48:55.243042Z"
    }
   },
   "source": [
    "b"
   ],
   "outputs": [
    {
     "data": {
      "text/plain": [
       "tensor([[  0, 100,   2,   3,   4],\n",
       "        [  5, 100,   7,   8,   9],\n",
       "        [ 10, 100,  12,  13, 100]])"
      ]
     },
     "execution_count": 49,
     "metadata": {},
     "output_type": "execute_result"
    }
   ],
   "execution_count": 49
  },
  {
   "metadata": {},
   "cell_type": "markdown",
   "source": "### 其他操作"
  },
  {
   "cell_type": "code",
   "metadata": {
    "ExecuteTime": {
     "end_time": "2024-12-21T11:49:02.846861Z",
     "start_time": "2024-12-21T11:49:02.839939Z"
    }
   },
   "source": [
    "b.new_ones(size=b.size())"
   ],
   "outputs": [
    {
     "data": {
      "text/plain": [
       "tensor([[1, 1, 1, 1, 1],\n",
       "        [1, 1, 1, 1, 1],\n",
       "        [1, 1, 1, 1, 1]])"
      ]
     },
     "execution_count": 50,
     "metadata": {},
     "output_type": "execute_result"
    }
   ],
   "execution_count": 50
  },
  {
   "cell_type": "code",
   "metadata": {
    "ExecuteTime": {
     "end_time": "2024-12-21T11:50:52.481240Z",
     "start_time": "2024-12-21T11:50:52.475798Z"
    }
   },
   "source": [
    "b.zero_()"
   ],
   "outputs": [
    {
     "data": {
      "text/plain": [
       "tensor([[0, 0, 0, 0, 0],\n",
       "        [0, 0, 0, 0, 0],\n",
       "        [0, 0, 0, 0, 0]])"
      ]
     },
     "execution_count": 58,
     "metadata": {},
     "output_type": "execute_result"
    }
   ],
   "execution_count": 58
  },
  {
   "cell_type": "code",
   "metadata": {
    "ExecuteTime": {
     "end_time": "2024-12-21T11:50:54.376766Z",
     "start_time": "2024-12-21T11:50:54.371438Z"
    }
   },
   "source": [
    "b"
   ],
   "outputs": [
    {
     "data": {
      "text/plain": [
       "tensor([[0, 0, 0, 0, 0],\n",
       "        [0, 0, 0, 0, 0],\n",
       "        [0, 0, 0, 0, 0]])"
      ]
     },
     "execution_count": 59,
     "metadata": {},
     "output_type": "execute_result"
    }
   ],
   "execution_count": 59
  },
  {
   "cell_type": "code",
   "metadata": {
    "ExecuteTime": {
     "end_time": "2024-12-21T11:50:56.066759Z",
     "start_time": "2024-12-21T11:50:56.061847Z"
    }
   },
   "source": [
    "b.add(1)"
   ],
   "outputs": [
    {
     "data": {
      "text/plain": [
       "tensor([[1, 1, 1, 1, 1],\n",
       "        [1, 1, 1, 1, 1],\n",
       "        [1, 1, 1, 1, 1]])"
      ]
     },
     "execution_count": 60,
     "metadata": {},
     "output_type": "execute_result"
    }
   ],
   "execution_count": 60
  },
  {
   "metadata": {
    "ExecuteTime": {
     "end_time": "2024-12-21T11:51:01.902088Z",
     "start_time": "2024-12-21T11:51:01.897805Z"
    }
   },
   "cell_type": "code",
   "source": "b",
   "outputs": [
    {
     "data": {
      "text/plain": [
       "tensor([[0, 0, 0, 0, 0],\n",
       "        [0, 0, 0, 0, 0],\n",
       "        [0, 0, 0, 0, 0]])"
      ]
     },
     "execution_count": 61,
     "metadata": {},
     "output_type": "execute_result"
    }
   ],
   "execution_count": 61
  },
  {
   "cell_type": "code",
   "metadata": {
    "ExecuteTime": {
     "end_time": "2024-12-21T11:51:03.894509Z",
     "start_time": "2024-12-21T11:51:03.889910Z"
    }
   },
   "source": "b.add_(1)  # 带下划线的方法会对x进行就地修改",
   "outputs": [
    {
     "data": {
      "text/plain": [
       "tensor([[1, 1, 1, 1, 1],\n",
       "        [1, 1, 1, 1, 1],\n",
       "        [1, 1, 1, 1, 1]])"
      ]
     },
     "execution_count": 62,
     "metadata": {},
     "output_type": "execute_result"
    }
   ],
   "execution_count": 62
  },
  {
   "cell_type": "code",
   "metadata": {
    "ExecuteTime": {
     "end_time": "2024-12-21T11:51:05.464063Z",
     "start_time": "2024-12-21T11:51:05.459621Z"
    }
   },
   "source": [
    "b"
   ],
   "outputs": [
    {
     "data": {
      "text/plain": [
       "tensor([[1, 1, 1, 1, 1],\n",
       "        [1, 1, 1, 1, 1],\n",
       "        [1, 1, 1, 1, 1]])"
      ]
     },
     "execution_count": 63,
     "metadata": {},
     "output_type": "execute_result"
    }
   ],
   "execution_count": 63
  },
  {
   "cell_type": "markdown",
   "metadata": {},
   "source": [
    "## cuda类型的tensor"
   ]
  },
  {
   "cell_type": "code",
   "metadata": {
    "ExecuteTime": {
     "end_time": "2024-12-21T11:51:17.660980Z",
     "start_time": "2024-12-21T11:51:17.557289Z"
    }
   },
   "source": "device = torch.device(\"cuda\" if torch.cuda.is_available() else \"cpu\")",
   "outputs": [],
   "execution_count": 64
  },
  {
   "cell_type": "code",
   "metadata": {
    "ExecuteTime": {
     "end_time": "2024-12-21T11:51:18.870886Z",
     "start_time": "2024-12-21T11:51:18.866611Z"
    }
   },
   "source": [
    "device"
   ],
   "outputs": [
    {
     "data": {
      "text/plain": [
       "device(type='cuda')"
      ]
     },
     "execution_count": 65,
     "metadata": {},
     "output_type": "execute_result"
    }
   ],
   "execution_count": 65
  },
  {
   "cell_type": "code",
   "metadata": {
    "ExecuteTime": {
     "end_time": "2024-12-21T11:51:21.611715Z",
     "start_time": "2024-12-21T11:51:21.606538Z"
    }
   },
   "source": [
    "a.device"
   ],
   "outputs": [
    {
     "data": {
      "text/plain": [
       "device(type='cpu')"
      ]
     },
     "execution_count": 66,
     "metadata": {},
     "output_type": "execute_result"
    }
   ],
   "execution_count": 66
  },
  {
   "cell_type": "code",
   "metadata": {
    "ExecuteTime": {
     "end_time": "2024-12-21T11:51:26.276261Z",
     "start_time": "2024-12-21T11:51:26.184170Z"
    }
   },
   "source": "a = a.to(device)",
   "outputs": [],
   "execution_count": 67
  },
  {
   "cell_type": "code",
   "metadata": {
    "ExecuteTime": {
     "end_time": "2024-12-21T11:51:28.419575Z",
     "start_time": "2024-12-21T11:51:28.415050Z"
    }
   },
   "source": [
    "a"
   ],
   "outputs": [
    {
     "data": {
      "text/plain": [
       "tensor([1, 2, 3], device='cuda:0')"
      ]
     },
     "execution_count": 68,
     "metadata": {},
     "output_type": "execute_result"
    }
   ],
   "execution_count": 68
  },
  {
   "cell_type": "code",
   "metadata": {
    "ExecuteTime": {
     "end_time": "2024-12-21T11:51:34.264584Z",
     "start_time": "2024-12-21T11:51:34.259910Z"
    }
   },
   "source": [
    "# 将张量 a 移动到 CPU 上（如果它不在 CPU 上）\n",
    "a.cpu().device"
   ],
   "outputs": [
    {
     "data": {
      "text/plain": [
       "device(type='cpu')"
      ]
     },
     "execution_count": 69,
     "metadata": {},
     "output_type": "execute_result"
    }
   ],
   "execution_count": 69
  },
  {
   "cell_type": "code",
   "metadata": {
    "ExecuteTime": {
     "end_time": "2024-12-21T11:51:36.402109Z",
     "start_time": "2024-12-21T11:51:36.398398Z"
    }
   },
   "source": "b = torch.tensor([0, 0, 0])",
   "outputs": [],
   "execution_count": 70
  },
  {
   "cell_type": "code",
   "metadata": {
    "ExecuteTime": {
     "end_time": "2024-12-21T11:51:37.990140Z",
     "start_time": "2024-12-21T11:51:37.985734Z"
    }
   },
   "source": [
    "b"
   ],
   "outputs": [
    {
     "data": {
      "text/plain": [
       "tensor([0, 0, 0])"
      ]
     },
     "execution_count": 71,
     "metadata": {},
     "output_type": "execute_result"
    }
   ],
   "execution_count": 71
  },
  {
   "cell_type": "code",
   "metadata": {
    "ExecuteTime": {
     "end_time": "2024-12-21T11:51:40.471855Z",
     "start_time": "2024-12-21T11:51:40.455365Z"
    }
   },
   "source": "a + b.to(device)",
   "outputs": [
    {
     "data": {
      "text/plain": [
       "tensor([1, 2, 3], device='cuda:0')"
      ]
     },
     "execution_count": 72,
     "metadata": {},
     "output_type": "execute_result"
    }
   ],
   "execution_count": 72
  },
  {
   "cell_type": "code",
   "metadata": {
    "ExecuteTime": {
     "end_time": "2024-12-21T11:51:43.355049Z",
     "start_time": "2024-12-21T11:51:43.350027Z"
    }
   },
   "source": [
    "a.cpu().numpy()"
   ],
   "outputs": [
    {
     "data": {
      "text/plain": [
       "array([1, 2, 3])"
      ]
     },
     "execution_count": 73,
     "metadata": {},
     "output_type": "execute_result"
    }
   ],
   "execution_count": 73
  },
  {
   "cell_type": "code",
   "execution_count": null,
   "metadata": {},
   "outputs": [],
   "source": []
  }
 ],
 "metadata": {
  "kernelspec": {
   "display_name": "Python 3",
   "language": "python",
   "name": "python3"
  },
  "language_info": {
   "codemirror_mode": {
    "name": "ipython",
    "version": 3
   },
   "file_extension": ".py",
   "mimetype": "text/x-python",
   "name": "python",
   "nbconvert_exporter": "python",
   "pygments_lexer": "ipython3",
   "version": "3.6.6"
  }
 },
 "nbformat": 4,
 "nbformat_minor": 2
}
