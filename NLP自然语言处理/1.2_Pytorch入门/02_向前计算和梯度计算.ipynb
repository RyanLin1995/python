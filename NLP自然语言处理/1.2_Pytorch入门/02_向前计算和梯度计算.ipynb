{
 "cells": [
  {
   "cell_type": "code",
   "id": "initial_id",
   "metadata": {
    "collapsed": true,
    "ExecuteTime": {
     "end_time": "2024-12-29T14:53:30.538405Z",
     "start_time": "2024-12-29T14:53:30.535649Z"
    }
   },
   "source": "import torch",
   "outputs": [],
   "execution_count": 63
  },
  {
   "metadata": {},
   "cell_type": "markdown",
   "source": [
    "# 1. 向前计算\n",
    "#### 1.1 计算\n",
    "$$\n",
    "\\begin{align*}\n",
    "&o = \\frac{1}{4}\\sum_iz_i \\\\\n",
    "&z_i = 3(x_i+2)^2\\\\\n",
    "其中:&\\\\\n",
    "&z_i|_{x_i=1}=27\\\\\n",
    "\\end{align*}\n",
    "$$"
   ],
   "id": "102226ed825eba12"
  },
  {
   "metadata": {
    "ExecuteTime": {
     "end_time": "2024-12-29T14:53:30.571318Z",
     "start_time": "2024-12-29T14:53:30.567882Z"
    }
   },
   "cell_type": "code",
   "source": [
    "# 初始化参数 x 并设置 requires_grad=True 用来追踪其计算历史，以便后续能够进行自动求导和反向传播\n",
    "x = torch.ones(2, 2, requires_grad=True).cuda()"
   ],
   "id": "4e7cf32d6933c4ce",
   "outputs": [],
   "execution_count": 64
  },
  {
   "metadata": {
    "ExecuteTime": {
     "end_time": "2024-12-29T14:53:30.582553Z",
     "start_time": "2024-12-29T14:53:30.576323Z"
    }
   },
   "cell_type": "code",
   "source": "print(x)",
   "id": "42fabdfe1372959f",
   "outputs": [
    {
     "name": "stdout",
     "output_type": "stream",
     "text": [
      "tensor([[1., 1.],\n",
      "        [1., 1.]], device='cuda:0', grad_fn=<ToCopyBackward0>)\n"
     ]
    }
   ],
   "execution_count": 65
  },
  {
   "metadata": {
    "ExecuteTime": {
     "end_time": "2024-12-29T14:53:30.609585Z",
     "start_time": "2024-12-29T14:53:30.604351Z"
    }
   },
   "cell_type": "code",
   "source": [
    "y = x + 2\n",
    "print(y)"
   ],
   "id": "5ba3cee02523cbff",
   "outputs": [
    {
     "name": "stdout",
     "output_type": "stream",
     "text": [
      "tensor([[3., 3.],\n",
      "        [3., 3.]], device='cuda:0', grad_fn=<AddBackward0>)\n"
     ]
    }
   ],
   "execution_count": 66
  },
  {
   "metadata": {
    "ExecuteTime": {
     "end_time": "2024-12-29T14:53:30.630562Z",
     "start_time": "2024-12-29T14:53:30.624850Z"
    }
   },
   "cell_type": "code",
   "source": [
    "z = y * y * 3\n",
    "print(z)"
   ],
   "id": "3ccf63bd0ce0c214",
   "outputs": [
    {
     "name": "stdout",
     "output_type": "stream",
     "text": [
      "tensor([[27., 27.],\n",
      "        [27., 27.]], device='cuda:0', grad_fn=<MulBackward0>)\n"
     ]
    }
   ],
   "execution_count": 67
  },
  {
   "metadata": {
    "ExecuteTime": {
     "end_time": "2024-12-29T14:53:30.670755Z",
     "start_time": "2024-12-29T14:53:30.663285Z"
    }
   },
   "cell_type": "code",
   "source": [
    "# 求平均值\n",
    "out = z.mean()\n",
    "print(out)"
   ],
   "id": "90eeaefb10aeab02",
   "outputs": [
    {
     "name": "stdout",
     "output_type": "stream",
     "text": [
      "tensor(27., device='cuda:0', grad_fn=<MeanBackward0>)\n"
     ]
    }
   ],
   "execution_count": 68
  },
  {
   "metadata": {},
   "cell_type": "markdown",
   "source": "#### 1.2 requires_grad和grad_fn",
   "id": "785329c5596ee8b3"
  },
  {
   "metadata": {
    "ExecuteTime": {
     "end_time": "2024-12-29T14:53:30.681831Z",
     "start_time": "2024-12-29T14:53:30.677760Z"
    }
   },
   "cell_type": "code",
   "source": "a = torch.randn(2, 2).cuda()",
   "id": "4f66d1e97ec78328",
   "outputs": [],
   "execution_count": 69
  },
  {
   "metadata": {
    "ExecuteTime": {
     "end_time": "2024-12-29T14:53:30.722960Z",
     "start_time": "2024-12-29T14:53:30.719972Z"
    }
   },
   "cell_type": "code",
   "source": "a = ((a * 3) / (a - 1)).cuda()",
   "id": "4f5e81a592454384",
   "outputs": [],
   "execution_count": 70
  },
  {
   "metadata": {
    "ExecuteTime": {
     "end_time": "2024-12-29T14:53:30.734052Z",
     "start_time": "2024-12-29T14:53:30.727966Z"
    }
   },
   "cell_type": "code",
   "source": "print(a)",
   "id": "326692a0dfe2f1bb",
   "outputs": [
    {
     "name": "stdout",
     "output_type": "stream",
     "text": [
      "tensor([[-1.1533, -0.3750],\n",
      "        [ 1.6100,  2.1624]], device='cuda:0')\n"
     ]
    }
   ],
   "execution_count": 71
  },
  {
   "metadata": {
    "ExecuteTime": {
     "end_time": "2024-12-29T14:53:30.765790Z",
     "start_time": "2024-12-29T14:53:30.761852Z"
    }
   },
   "cell_type": "code",
   "source": "print(a.requires_grad)  # 默认为False",
   "id": "ad295f8e141d56cc",
   "outputs": [
    {
     "name": "stdout",
     "output_type": "stream",
     "text": [
      "False\n"
     ]
    }
   ],
   "execution_count": 72
  },
  {
   "metadata": {
    "ExecuteTime": {
     "end_time": "2024-12-29T14:53:30.792164Z",
     "start_time": "2024-12-29T14:53:30.785465Z"
    }
   },
   "cell_type": "code",
   "source": "a.requires_grad_(True)  # 就地修改",
   "id": "e2216cc90a223836",
   "outputs": [
    {
     "data": {
      "text/plain": [
       "tensor([[-1.1533, -0.3750],\n",
       "        [ 1.6100,  2.1624]], device='cuda:0', requires_grad=True)"
      ]
     },
     "execution_count": 73,
     "metadata": {},
     "output_type": "execute_result"
    }
   ],
   "execution_count": 73
  },
  {
   "metadata": {
    "ExecuteTime": {
     "end_time": "2024-12-29T14:53:30.853316Z",
     "start_time": "2024-12-29T14:53:30.849811Z"
    }
   },
   "cell_type": "code",
   "source": "print(a.requires_grad)  # True",
   "id": "b8c2c04ca38e4691",
   "outputs": [
    {
     "name": "stdout",
     "output_type": "stream",
     "text": [
      "True\n"
     ]
    }
   ],
   "execution_count": 74
  },
  {
   "metadata": {
    "ExecuteTime": {
     "end_time": "2024-12-29T14:53:30.926353Z",
     "start_time": "2024-12-29T14:53:30.915354Z"
    }
   },
   "cell_type": "code",
   "source": [
    "b = (a * a).sum()\n",
    "print(b)"
   ],
   "id": "4f285ab2861ea80",
   "outputs": [
    {
     "name": "stdout",
     "output_type": "stream",
     "text": [
      "tensor(8.7389, device='cuda:0', grad_fn=<SumBackward0>)\n"
     ]
    }
   ],
   "execution_count": 75
  },
  {
   "metadata": {
    "ExecuteTime": {
     "end_time": "2024-12-29T14:53:30.951300Z",
     "start_time": "2024-12-29T14:53:30.947112Z"
    }
   },
   "cell_type": "code",
   "source": [
    "# 为了防止跟踪历史记录（和使用内存），可以将代码块包装在with torch.no_grad():中。在评估模型时特别有用，因为模型可能具有requires_grad = True的可训练的参数，但是我们不需要在此过程中对他们进行梯度计算。\n",
    "with torch.no_grad():\n",
    "    c = (a * a).sum()  # 不进行梯度追踪\n",
    "print(c.requires_grad)"
   ],
   "id": "e2379ca264f64073",
   "outputs": [
    {
     "name": "stdout",
     "output_type": "stream",
     "text": [
      "False\n"
     ]
    }
   ],
   "execution_count": 76
  },
  {
   "metadata": {},
   "cell_type": "markdown",
   "source": "# 2.梯度计算",
   "id": "506f63fa91c57d25"
  },
  {
   "metadata": {
    "ExecuteTime": {
     "end_time": "2024-12-29T14:53:31.037873Z",
     "start_time": "2024-12-29T14:53:31.032565Z"
    }
   },
   "cell_type": "code",
   "source": "print(out)  # 输出当前的 out 值",
   "id": "fd4f9acdd74a614e",
   "outputs": [
    {
     "name": "stdout",
     "output_type": "stream",
     "text": [
      "tensor(27., device='cuda:0', grad_fn=<MeanBackward0>)\n"
     ]
    }
   ],
   "execution_count": 77
  },
  {
   "metadata": {
    "ExecuteTime": {
     "end_time": "2024-12-29T14:53:31.129386Z",
     "start_time": "2024-12-29T14:53:31.124897Z"
    }
   },
   "cell_type": "code",
   "source": [
    "# 进行反向传播计算梯度\n",
    "x.retain_grad()  # 保留梯度\n",
    "out.backward()  # 进行反向传播"
   ],
   "id": "d7b5dc3971f57be2",
   "outputs": [],
   "execution_count": 78
  },
  {
   "metadata": {
    "ExecuteTime": {
     "end_time": "2024-12-29T14:53:31.156634Z",
     "start_time": "2024-12-29T14:53:31.150151Z"
    }
   },
   "cell_type": "code",
   "source": [
    "# 获取梯度值\n",
    "print(x.grad)"
   ],
   "id": "632fa3902931dcb",
   "outputs": [
    {
     "name": "stdout",
     "output_type": "stream",
     "text": [
      "tensor([[4.5000, 4.5000],\n",
      "        [4.5000, 4.5000]], device='cuda:0')\n"
     ]
    }
   ],
   "execution_count": 79
  },
  {
   "metadata": {
    "ExecuteTime": {
     "end_time": "2024-12-29T14:53:31.176081Z",
     "start_time": "2024-12-29T14:53:31.174063Z"
    }
   },
   "cell_type": "code",
   "source": "",
   "id": "43e73c2a3e898672",
   "outputs": [],
   "execution_count": null
  }
 ],
 "metadata": {
  "kernelspec": {
   "display_name": "Python 3",
   "language": "python",
   "name": "python3"
  },
  "language_info": {
   "codemirror_mode": {
    "name": "ipython",
    "version": 2
   },
   "file_extension": ".py",
   "mimetype": "text/x-python",
   "name": "python",
   "nbconvert_exporter": "python",
   "pygments_lexer": "ipython2",
   "version": "2.7.6"
  }
 },
 "nbformat": 4,
 "nbformat_minor": 5
}
