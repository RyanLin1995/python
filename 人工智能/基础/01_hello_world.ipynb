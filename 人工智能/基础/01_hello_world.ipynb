{
 "cells": [
  {
   "cell_type": "code",
   "execution_count": null,
   "id": "3881af0a-f4d9-4321-b121-6024ffacabfa",
   "metadata": {},
   "outputs": [],
   "source": [
    "print('Hello World')"
   ]
  },
  {
   "cell_type": "code",
   "execution_count": null,
   "id": "c5321926-706a-4e6d-8fdd-d8cbe76da811",
   "metadata": {},
   "outputs": [],
   "source": [
    "print('你好')"
   ]
  },
  {
   "cell_type": "markdown",
   "id": "be840820-3965-4d24-a840-9d8548381843",
   "metadata": {},
   "source": [
    "# 一级标题\n",
    "## 二级标题\n",
    "### 三级标题"
   ]
  },
  {
   "cell_type": "markdown",
   "id": "a1bab6d1-b051-45d1-8539-c0f6540e421b",
   "metadata": {},
   "source": [
    "- 缩进\n",
    "    - 缩进\n",
    "        - 缩进"
   ]
  },
  {
   "cell_type": "code",
   "execution_count": null,
   "id": "59bc6afa-843f-45cb-a547-2d0c98c6a500",
   "metadata": {},
   "outputs": [],
   "source": []
  }
 ],
 "metadata": {
  "kernelspec": {
   "display_name": "Python 3 (ipykernel)",
   "language": "python",
   "name": "python3"
  },
  "language_info": {
   "codemirror_mode": {
    "name": "ipython",
    "version": 3
   },
   "file_extension": ".py",
   "mimetype": "text/x-python",
   "name": "python",
   "nbconvert_exporter": "python",
   "pygments_lexer": "ipython3",
   "version": "3.10.12"
  }
 },
 "nbformat": 4,
 "nbformat_minor": 5
}
