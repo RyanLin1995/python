{
 "cells": [
  {
   "cell_type": "code",
   "execution_count": 1,
   "id": "bdf4e77e-dbc8-4c49-9dc8-f20062acb725",
   "metadata": {},
   "outputs": [],
   "source": [
    "import numpy as np"
   ]
  },
  {
   "cell_type": "markdown",
   "id": "b41eb55e-391e-4a7c-8f98-0bf75cce2136",
   "metadata": {},
   "source": [
    "# 1 创建"
   ]
  },
  {
   "cell_type": "code",
   "execution_count": 2,
   "id": "59d2b242-54b5-401a-88ed-3c6bfd03ca19",
   "metadata": {},
   "outputs": [],
   "source": [
    "score = np.array(\n",
    "[[80, 89, 86, 67, 79],\n",
    "[78, 97, 89, 67, 81],\n",
    "[90, 94, 78, 67, 74],\n",
    "[91, 91, 90, 67, 69],\n",
    "[76, 87, 75, 67, 86],\n",
    "[70, 79, 84, 67, 84],\n",
    "[94, 92, 93, 67, 64],\n",
    "[86, 85, 83, 67, 80]])"
   ]
  },
  {
   "cell_type": "code",
   "execution_count": 3,
   "id": "0d245a4d-4e05-411e-be42-96f8d1e8b0a2",
   "metadata": {},
   "outputs": [
    {
     "data": {
      "text/plain": [
       "array([[80, 89, 86, 67, 79],\n",
       "       [78, 97, 89, 67, 81],\n",
       "       [90, 94, 78, 67, 74],\n",
       "       [91, 91, 90, 67, 69],\n",
       "       [76, 87, 75, 67, 86],\n",
       "       [70, 79, 84, 67, 84],\n",
       "       [94, 92, 93, 67, 64],\n",
       "       [86, 85, 83, 67, 80]])"
      ]
     },
     "execution_count": 3,
     "metadata": {},
     "output_type": "execute_result"
    }
   ],
   "source": [
    "score"
   ]
  },
  {
   "cell_type": "markdown",
   "id": "3671179c-6730-4a47-9882-9f7432f9034f",
   "metadata": {},
   "source": [
    "# 2 效率对比"
   ]
  },
  {
   "cell_type": "code",
   "execution_count": 4,
   "id": "d8a18f2c-2b96-46aa-bbfd-6ce751769adf",
   "metadata": {},
   "outputs": [
    {
     "name": "stdout",
     "output_type": "stream",
     "text": [
      "CPU times: total: 109 ms\n",
      "Wall time: 301 ms\n",
      "CPU times: total: 0 ns\n",
      "Wall time: 56.3 ms\n"
     ]
    }
   ],
   "source": [
    "import random\n",
    "import time\n",
    "import numpy as np\n",
    "a = []\n",
    "for i in range(100000000):\n",
    "    a.append(random.random())\n",
    "\n",
    "# 通过%time魔法方法, 查看当前行的代码运行一次所花费的时间\n",
    "%time sum1=sum(a)\n",
    "\n",
    "b=np.array(a)\n",
    "\n",
    "%time sum2=np.sum(b)"
   ]
  },
  {
   "cell_type": "markdown",
   "id": "1d414ba0-82d6-4c32-9f87-9c865d0cba29",
   "metadata": {},
   "source": [
    "# 3 ndarry的属性"
   ]
  },
  {
   "cell_type": "code",
   "execution_count": 8,
   "id": "7f272e9f-b465-47e0-810d-e4b237ccb650",
   "metadata": {},
   "outputs": [
    {
     "data": {
      "text/plain": [
       "(8, 5)"
      ]
     },
     "execution_count": 8,
     "metadata": {},
     "output_type": "execute_result"
    }
   ],
   "source": [
    "score.shape  # 数组的维度，第一个参数是行，第二个参数是列"
   ]
  },
  {
   "cell_type": "code",
   "execution_count": 9,
   "id": "0cab5dc6-4d6b-4742-b68c-b1b0cd1944f2",
   "metadata": {},
   "outputs": [
    {
     "data": {
      "text/plain": [
       "2"
      ]
     },
     "execution_count": 9,
     "metadata": {},
     "output_type": "execute_result"
    }
   ],
   "source": [
    "score.ndim  # 数组维数"
   ]
  },
  {
   "cell_type": "code",
   "execution_count": 10,
   "id": "61f606ac-2df8-4448-a3f6-ce9d7e27f9ac",
   "metadata": {},
   "outputs": [
    {
     "data": {
      "text/plain": [
       "40"
      ]
     },
     "execution_count": 10,
     "metadata": {},
     "output_type": "execute_result"
    }
   ],
   "source": [
    "score.size  # 数组中的元素数量"
   ]
  },
  {
   "cell_type": "code",
   "execution_count": 11,
   "id": "6677e169-171e-4d72-a554-04ba7a110bab",
   "metadata": {},
   "outputs": [
    {
     "data": {
      "text/plain": [
       "4"
      ]
     },
     "execution_count": 11,
     "metadata": {},
     "output_type": "execute_result"
    }
   ],
   "source": [
    "score.itemsize  # 一个数组元素的长度（字节）"
   ]
  },
  {
   "cell_type": "code",
   "execution_count": 12,
   "id": "d250d4cf-afbd-43c2-b189-a873953a156d",
   "metadata": {},
   "outputs": [
    {
     "data": {
      "text/plain": [
       "dtype('int32')"
      ]
     },
     "execution_count": 12,
     "metadata": {},
     "output_type": "execute_result"
    }
   ],
   "source": [
    "score.dtype  # 数组元素的类型"
   ]
  },
  {
   "cell_type": "markdown",
   "id": "fae11da4-7590-4d70-a1bd-ac9792440a2f",
   "metadata": {},
   "source": [
    "# 4 ndarry的形状"
   ]
  },
  {
   "cell_type": "code",
   "execution_count": 13,
   "id": "2f15895b-16fa-4277-947a-7020d304d158",
   "metadata": {},
   "outputs": [],
   "source": [
    "a = np.array([[1,2,3],[4,5,6]])"
   ]
  },
  {
   "cell_type": "code",
   "execution_count": 14,
   "id": "0496b52e-c808-427f-afbf-a24ac004cfb4",
   "metadata": {},
   "outputs": [],
   "source": [
    "b = np.array([1,2,3,4])"
   ]
  },
  {
   "cell_type": "code",
   "execution_count": 15,
   "id": "c9d62b10-fe1f-498a-95e1-d72ab9315894",
   "metadata": {},
   "outputs": [],
   "source": [
    "c = np.array([[[1,2,3],[4,5,6]],[[1,2,3],[4,5,6]]])"
   ]
  },
  {
   "cell_type": "code",
   "execution_count": 16,
   "id": "a53ab1d0-13e1-4309-969f-7ab5d39915e9",
   "metadata": {},
   "outputs": [
    {
     "data": {
      "text/plain": [
       "array([[1, 2, 3],\n",
       "       [4, 5, 6]])"
      ]
     },
     "execution_count": 16,
     "metadata": {},
     "output_type": "execute_result"
    }
   ],
   "source": [
    "a"
   ]
  },
  {
   "cell_type": "code",
   "execution_count": 19,
   "id": "22ec8fac-42e4-416b-ac2b-4310510258bc",
   "metadata": {},
   "outputs": [
    {
     "data": {
      "text/plain": [
       "(2, 3)"
      ]
     },
     "execution_count": 19,
     "metadata": {},
     "output_type": "execute_result"
    }
   ],
   "source": [
    "a.shape"
   ]
  },
  {
   "cell_type": "code",
   "execution_count": 20,
   "id": "5b054141-d995-486e-8437-9e8a8bd5d2a0",
   "metadata": {},
   "outputs": [
    {
     "data": {
      "text/plain": [
       "array([1, 2, 3, 4])"
      ]
     },
     "execution_count": 20,
     "metadata": {},
     "output_type": "execute_result"
    }
   ],
   "source": [
    "b"
   ]
  },
  {
   "cell_type": "code",
   "execution_count": 21,
   "id": "57830db5-0227-4f27-a143-f8217ccb4093",
   "metadata": {},
   "outputs": [
    {
     "data": {
      "text/plain": [
       "(4,)"
      ]
     },
     "execution_count": 21,
     "metadata": {},
     "output_type": "execute_result"
    }
   ],
   "source": [
    "b.shape"
   ]
  },
  {
   "cell_type": "code",
   "execution_count": 22,
   "id": "99a59e7a-8da5-45ee-828a-df2f38c75474",
   "metadata": {},
   "outputs": [
    {
     "data": {
      "text/plain": [
       "array([[[1, 2, 3],\n",
       "        [4, 5, 6]],\n",
       "\n",
       "       [[1, 2, 3],\n",
       "        [4, 5, 6]]])"
      ]
     },
     "execution_count": 22,
     "metadata": {},
     "output_type": "execute_result"
    }
   ],
   "source": [
    "c"
   ]
  },
  {
   "cell_type": "code",
   "execution_count": 23,
   "id": "78183e60-1f5d-4609-9cac-5ea0437e6806",
   "metadata": {},
   "outputs": [
    {
     "data": {
      "text/plain": [
       "(2, 2, 3)"
      ]
     },
     "execution_count": 23,
     "metadata": {},
     "output_type": "execute_result"
    }
   ],
   "source": [
    "c.shape"
   ]
  },
  {
   "cell_type": "code",
   "execution_count": 24,
   "id": "35ef9454-cee5-4e5a-b0de-45d01ad59c0d",
   "metadata": {},
   "outputs": [],
   "source": [
    "a32 = np.array([[1, 2, 3],[4, 5, 6]], dtype=np.float32)"
   ]
  },
  {
   "cell_type": "code",
   "execution_count": 25,
   "id": "a894e4b3-b752-4bff-b6fe-0d865a27f819",
   "metadata": {},
   "outputs": [
    {
     "data": {
      "text/plain": [
       "4"
      ]
     },
     "execution_count": 25,
     "metadata": {},
     "output_type": "execute_result"
    }
   ],
   "source": [
    "a32.itemsize"
   ]
  },
  {
   "cell_type": "code",
   "execution_count": 26,
   "id": "5163eab8-7f79-40d7-8296-bc9fae119f6c",
   "metadata": {},
   "outputs": [
    {
     "data": {
      "text/plain": [
       "4"
      ]
     },
     "execution_count": 26,
     "metadata": {},
     "output_type": "execute_result"
    }
   ],
   "source": [
    "a.itemsize"
   ]
  },
  {
   "cell_type": "code",
   "execution_count": 27,
   "id": "4ac78fc9-8db4-4dd8-afa9-d887a1eef6db",
   "metadata": {},
   "outputs": [],
   "source": [
    "arr = np.array(['python', 'tensorflow', 'scikit-learn', 'numpy'], dtype = np.string_)"
   ]
  },
  {
   "cell_type": "code",
   "execution_count": 28,
   "id": "35389fd5-f915-4c63-b44c-0fa7f700d2a8",
   "metadata": {},
   "outputs": [
    {
     "data": {
      "text/plain": [
       "array([b'python', b'tensorflow', b'scikit-learn', b'numpy'], dtype='|S12')"
      ]
     },
     "execution_count": 28,
     "metadata": {},
     "output_type": "execute_result"
    }
   ],
   "source": [
    "arr"
   ]
  },
  {
   "cell_type": "code",
   "execution_count": null,
   "id": "df6e48df-c9b5-47cc-868d-89cc08df6114",
   "metadata": {},
   "outputs": [],
   "source": []
  }
 ],
 "metadata": {
  "kernelspec": {
   "display_name": "Python 3 (ipykernel)",
   "language": "python",
   "name": "python3"
  },
  "language_info": {
   "codemirror_mode": {
    "name": "ipython",
    "version": 3
   },
   "file_extension": ".py",
   "mimetype": "text/x-python",
   "name": "python",
   "nbconvert_exporter": "python",
   "pygments_lexer": "ipython3",
   "version": "3.10.12"
  }
 },
 "nbformat": 4,
 "nbformat_minor": 5
}
