{
 "cells": [
  {
   "cell_type": "code",
   "execution_count": 1,
   "id": "8d3d453c-4f4e-4dae-a947-7eca30956704",
   "metadata": {},
   "outputs": [],
   "source": [
    "import numpy as np\n",
    "import matplotlib.pyplot as plt"
   ]
  },
  {
   "cell_type": "markdown",
   "id": "9ad36310-37d8-423b-8a98-43f02a5e8819",
   "metadata": {},
   "source": [
    "# 1 生成数组的方法"
   ]
  },
  {
   "cell_type": "code",
   "execution_count": 2,
   "id": "8eca8c30-9a25-420b-8ae8-e20d57aa0516",
   "metadata": {},
   "outputs": [],
   "source": [
    "ones = np.ones([4,8])  # np.ones(shape, dtype)"
   ]
  },
  {
   "cell_type": "code",
   "execution_count": 3,
   "id": "1358172e-651c-4437-b26e-694ee4e2567a",
   "metadata": {},
   "outputs": [
    {
     "data": {
      "text/plain": [
       "array([[1., 1., 1., 1., 1., 1., 1., 1.],\n",
       "       [1., 1., 1., 1., 1., 1., 1., 1.],\n",
       "       [1., 1., 1., 1., 1., 1., 1., 1.],\n",
       "       [1., 1., 1., 1., 1., 1., 1., 1.]])"
      ]
     },
     "execution_count": 3,
     "metadata": {},
     "output_type": "execute_result"
    }
   ],
   "source": [
    "ones"
   ]
  },
  {
   "cell_type": "code",
   "execution_count": 4,
   "id": "e77ac250-f9e0-41d4-898c-f0a5090f1444",
   "metadata": {},
   "outputs": [],
   "source": [
    "zeros = np.zeros([4,8])  # np.zeros(shape, dtype)"
   ]
  },
  {
   "cell_type": "code",
   "execution_count": 5,
   "id": "76d4a445-1d82-43ad-a004-e3c4219f5e1c",
   "metadata": {},
   "outputs": [
    {
     "data": {
      "text/plain": [
       "array([[0., 0., 0., 0., 0., 0., 0., 0.],\n",
       "       [0., 0., 0., 0., 0., 0., 0., 0.],\n",
       "       [0., 0., 0., 0., 0., 0., 0., 0.],\n",
       "       [0., 0., 0., 0., 0., 0., 0., 0.]])"
      ]
     },
     "execution_count": 5,
     "metadata": {},
     "output_type": "execute_result"
    }
   ],
   "source": [
    "zeros"
   ]
  },
  {
   "cell_type": "code",
   "execution_count": 6,
   "id": "fb9c2856-d5c2-45cd-87d6-7917a1a44bb4",
   "metadata": {},
   "outputs": [
    {
     "data": {
      "text/plain": [
       "array([[1., 1., 1., 1., 1., 1., 1., 1.],\n",
       "       [1., 1., 1., 1., 1., 1., 1., 1.],\n",
       "       [1., 1., 1., 1., 1., 1., 1., 1.],\n",
       "       [1., 1., 1., 1., 1., 1., 1., 1.]])"
      ]
     },
     "execution_count": 6,
     "metadata": {},
     "output_type": "execute_result"
    }
   ],
   "source": [
    "np.ones_like(zeros)  # 将数组变为 1"
   ]
  },
  {
   "cell_type": "code",
   "execution_count": 7,
   "id": "fac6307b-7523-4f5c-9dba-5682d151871a",
   "metadata": {},
   "outputs": [
    {
     "data": {
      "text/plain": [
       "array([[0., 0., 0., 0., 0., 0., 0., 0.],\n",
       "       [0., 0., 0., 0., 0., 0., 0., 0.],\n",
       "       [0., 0., 0., 0., 0., 0., 0., 0.],\n",
       "       [0., 0., 0., 0., 0., 0., 0., 0.]])"
      ]
     },
     "execution_count": 7,
     "metadata": {},
     "output_type": "execute_result"
    }
   ],
   "source": [
    "np.zeros_like(ones)  # 将数组变为 0"
   ]
  },
  {
   "cell_type": "code",
   "execution_count": 8,
   "id": "59d8a5bc-7241-4e69-a368-f358bdbb4641",
   "metadata": {},
   "outputs": [],
   "source": [
    "a = np.array([[1,2,3],[4,5,6]])"
   ]
  },
  {
   "cell_type": "code",
   "execution_count": 9,
   "id": "c3fd1d0b-9588-4cec-b0ca-8026baf7ebcd",
   "metadata": {},
   "outputs": [],
   "source": [
    "a1 = np.array(a)  # 深拷贝"
   ]
  },
  {
   "cell_type": "code",
   "execution_count": 10,
   "id": "13036526-ad09-4af0-9cf2-e41061803d7d",
   "metadata": {},
   "outputs": [],
   "source": [
    "a2 = np.asarray(a)  # 浅拷贝"
   ]
  },
  {
   "cell_type": "code",
   "execution_count": 11,
   "id": "a3ac697f-d3e8-4199-b868-58d4ce05030d",
   "metadata": {},
   "outputs": [],
   "source": [
    "a[0,0] = 100"
   ]
  },
  {
   "cell_type": "code",
   "execution_count": 12,
   "id": "4b3bf786-d70d-484a-84f6-3ad4e37c8be9",
   "metadata": {},
   "outputs": [
    {
     "data": {
      "text/plain": [
       "array([[1, 2, 3],\n",
       "       [4, 5, 6]])"
      ]
     },
     "execution_count": 12,
     "metadata": {},
     "output_type": "execute_result"
    }
   ],
   "source": [
    "a1"
   ]
  },
  {
   "cell_type": "code",
   "execution_count": 13,
   "id": "ce5ad7b7-e74d-4592-b6e4-fb59ecbd3edc",
   "metadata": {},
   "outputs": [
    {
     "data": {
      "text/plain": [
       "array([[100,   2,   3],\n",
       "       [  4,   5,   6]])"
      ]
     },
     "execution_count": 13,
     "metadata": {},
     "output_type": "execute_result"
    }
   ],
   "source": [
    "a2"
   ]
  },
  {
   "cell_type": "code",
   "execution_count": 14,
   "id": "63947154-ec94-4612-a0b4-42706ec12c30",
   "metadata": {},
   "outputs": [
    {
     "data": {
      "text/plain": [
       "array([[100,   2,   3],\n",
       "       [  4,   5,   6]])"
      ]
     },
     "execution_count": 14,
     "metadata": {},
     "output_type": "execute_result"
    }
   ],
   "source": [
    "a"
   ]
  },
  {
   "cell_type": "markdown",
   "id": "5e067247-dcdc-47dc-9f7f-4723421b8666",
   "metadata": {},
   "source": [
    "#### np.linspace (start, stop, num, endpoint)\n",
    "* 创建等差数组 — 指定数量\n",
    "* 参数:\n",
    "    * start:序列的起始值\n",
    "    * stop:序列的终止值\n",
    "    * num:要生成的等间隔样例数量，默认为50\n",
    "    * endpoint:序列中是否包含stop值，默认为ture"
   ]
  },
  {
   "cell_type": "code",
   "execution_count": 15,
   "id": "c76ca951-319e-4b5c-bc9f-5766e041795e",
   "metadata": {},
   "outputs": [
    {
     "data": {
      "text/plain": [
       "array([  0.,  10.,  20.,  30.,  40.,  50.,  60.,  70.,  80.,  90., 100.])"
      ]
     },
     "execution_count": 15,
     "metadata": {},
     "output_type": "execute_result"
    }
   ],
   "source": [
    "np.linspace(0, 100, 11)"
   ]
  },
  {
   "cell_type": "markdown",
   "id": "e4144bad-3956-4be3-becd-0f195341bede",
   "metadata": {},
   "source": [
    "#### np.arange(start,stop, step, dtype)\n",
    "* 创建等差数组——指定步长\n",
    "* 参数:\n",
    "    * step:步长,默认值为1"
   ]
  },
  {
   "cell_type": "code",
   "execution_count": 16,
   "id": "ea9bdae3-6301-45fd-a512-ecdaa2ae82f8",
   "metadata": {},
   "outputs": [
    {
     "data": {
      "text/plain": [
       "array([10, 12, 14, 16, 18, 20, 22, 24, 26, 28, 30, 32, 34, 36, 38, 40, 42,\n",
       "       44, 46, 48])"
      ]
     },
     "execution_count": 16,
     "metadata": {},
     "output_type": "execute_result"
    }
   ],
   "source": [
    "np.arange(10, 50, 2)"
   ]
  },
  {
   "cell_type": "markdown",
   "id": "627eb728-8516-4701-bd75-72a3628e67ce",
   "metadata": {},
   "source": [
    "#### np.logspace(start,stop, num)\n",
    "* 创建等比数列\n",
    "* 参数:\n",
    "    * num:要生成的等比数列数量，默认为50"
   ]
  },
  {
   "cell_type": "code",
   "execution_count": 17,
   "id": "b26dc672-05eb-4e73-aca3-d4db71f81be2",
   "metadata": {},
   "outputs": [
    {
     "data": {
      "text/plain": [
       "array([  1.,  10., 100.])"
      ]
     },
     "execution_count": 17,
     "metadata": {},
     "output_type": "execute_result"
    }
   ],
   "source": [
    "np.logspace(0, 2, 3)  # 生成10^x"
   ]
  },
  {
   "cell_type": "markdown",
   "id": "59b4cf8e-6844-46ce-8c0b-31450101b0d7",
   "metadata": {},
   "source": [
    "# 均匀分布"
   ]
  },
  {
   "cell_type": "markdown",
   "id": "8444fdea-1897-49bf-aa8b-9aa2568532b0",
   "metadata": {},
   "source": [
    "#### np.random.rand(d0, d1, ..., dn)\n",
    "* 返回[0.0，1.0)内的一组均匀分布的数"
   ]
  },
  {
   "cell_type": "code",
   "execution_count": 18,
   "id": "c62dc6ad-b7ab-4f31-8500-d96540a15b9f",
   "metadata": {},
   "outputs": [
    {
     "data": {
      "text/plain": [
       "array([[0.60474903, 0.39436432, 0.47656129],\n",
       "       [0.66458888, 0.74179929, 0.6844497 ]])"
      ]
     },
     "execution_count": 18,
     "metadata": {},
     "output_type": "execute_result"
    }
   ],
   "source": [
    "np.random.rand(2,3)"
   ]
  },
  {
   "cell_type": "markdown",
   "id": "5a457a6f-4d6b-4354-9d5b-e506fa8234b8",
   "metadata": {},
   "source": [
    "#### np.random.uniform(low=0.0, high=1.0, size=None)\n",
    "* 功能：从一个均匀分布[low,high)中随机采样，注意定义域是左闭右开，即包含low，不包含high.\n",
    "* 参数介绍:\n",
    "  * low: 采样下界，float类型，默认值为0；\n",
    "  * high: 采样上界，float类型，默认值为1；\n",
    "  * size: 输出样本数目，为int或元组(tuple)类型，例如，size=(m,n,k), 则输出mnk个样本，缺省时输出1个值。\n",
    "* 返回值：ndarray类型，其形状和参数size中描述一致。"
   ]
  },
  {
   "cell_type": "code",
   "execution_count": 19,
   "id": "5b9b8079-d5a5-4ae5-b966-97d713a375c7",
   "metadata": {},
   "outputs": [
    {
     "data": {
      "text/plain": [
       "array([[5.79141   , 3.13873926, 1.13072464, 6.96934382, 6.81525633],\n",
       "       [2.29427014, 8.23938026, 9.6146422 , 3.93842266, 1.94276247],\n",
       "       [3.63485523, 6.35160742, 1.20242623, 9.70204133, 3.22231651]])"
      ]
     },
     "execution_count": 19,
     "metadata": {},
     "output_type": "execute_result"
    }
   ],
   "source": [
    "np.random.uniform(low=1, high=10, size=(3,5))"
   ]
  },
  {
   "cell_type": "markdown",
   "id": "269ddf8a-9d2c-41fe-81e9-453a2f82760a",
   "metadata": {},
   "source": [
    "#### np.random.randint(low, high=None, size=None, dtype='l')\n",
    "* 从一个均匀分布中随机采样，生成一个整数或N维整数数组，\n",
    "* 取数范围：若high不为None时，取[low,high)之间随机整数，否则取值[0,low)之间随机整数。"
   ]
  },
  {
   "cell_type": "code",
   "execution_count": 20,
   "id": "da1e20bc-539b-428c-b038-397ce560c7c4",
   "metadata": {},
   "outputs": [
    {
     "data": {
      "text/plain": [
       "array([[1, 6, 9, 3, 6],\n",
       "       [9, 1, 8, 1, 1],\n",
       "       [8, 8, 9, 2, 1]])"
      ]
     },
     "execution_count": 20,
     "metadata": {},
     "output_type": "execute_result"
    }
   ],
   "source": [
    "np.random.randint(1,10,(3,5))"
   ]
  },
  {
   "cell_type": "code",
   "execution_count": 21,
   "id": "90f2b9a5-b7f3-4ead-abe2-20a7361360ef",
   "metadata": {},
   "outputs": [
    {
     "data": {
      "image/png": "[encoded data removed]",
      "text/plain": [
       "<Figure size 2000x800 with 1 Axes>"
      ]
     },
     "metadata": {},
     "output_type": "display_data"
    }
   ],
   "source": [
    "# 生成均匀分布小案例\n",
    "# 0. 准备数据\n",
    "x = np.random.uniform(size=10000000)\n",
    "\n",
    "# 1. 画布\n",
    "plt.figure(figsize=(20, 8), dpi=100)\n",
    "\n",
    "# 2. 绘制直方图\n",
    "plt.hist(x, bins=1000)\n",
    "\n",
    "# 3. 显示\n",
    "plt.show()"
   ]
  },
  {
   "cell_type": "markdown",
   "id": "9e1d61d0-f8d8-41dc-978c-c338d5752d44",
   "metadata": {},
   "source": [
    "# 正态分布"
   ]
  },
  {
   "cell_type": "markdown",
   "id": "de61f3bd-a766-4e72-9323-227fc1108275",
   "metadata": {},
   "source": [
    "#### np.random.randn(d0, d1, …, dn)\n",
    "* 功能：从标准正态分布中返回一个或多个样本值"
   ]
  },
  {
   "cell_type": "markdown",
   "id": "308c8e8b-abd1-4f47-a3b4-952d8ae1920e",
   "metadata": {},
   "source": [
    "#### np.random.normal(loc=0.0, scale=1.0, size=None)\n",
    "* loc：float​ 此概率分布的均值（对应着整个分布的中心centre）\n",
    "* scale：float​ 此概率分布的标准差（对应于分布的宽度，scale越大越矮胖，scale越小，越瘦高）\n",
    "* size：int or tuple of ints​ 输出的shape，默认为None，只输出一个值"
   ]
  },
  {
   "cell_type": "code",
   "execution_count": 22,
   "id": "009bc131-68af-43aa-9a29-99ef398e9f4b",
   "metadata": {},
   "outputs": [
    {
     "data": {
      "text/plain": [
       "array([1.68630947, 1.62974785, 1.39701964, ..., 1.82136279, 1.82638023,\n",
       "       1.50612506])"
      ]
     },
     "execution_count": 22,
     "metadata": {},
     "output_type": "execute_result"
    }
   ],
   "source": [
    "np.random.normal(1.65, 0.15, 100000000)"
   ]
  },
  {
   "cell_type": "markdown",
   "id": "2dfdc171-8a19-4d79-9f0c-eddf4fa0383c",
   "metadata": {},
   "source": [
    "#### np.random.standard_normal(size=None)\n",
    "* 返回指定形状的标准正态分布的数组。"
   ]
  },
  {
   "cell_type": "code",
   "execution_count": 23,
   "id": "f8e6b03c-1f4f-4f7a-b330-1023c68b4da3",
   "metadata": {},
   "outputs": [
    {
     "data": {
      "text/plain": [
       "array([ 6.06314369e-02, -7.58963511e-01, -1.16283365e+00,  1.84323674e+00,\n",
       "        8.53977958e-01,  1.44989031e+00,  2.56324126e+00,  2.68954424e-01,\n",
       "        9.90807096e-01, -8.31432990e-01, -6.81760823e-01,  8.32912339e-01,\n",
       "       -2.31909595e-01, -1.51851104e-01,  6.16599605e-01,  6.55867796e-01,\n",
       "        8.37500122e-01, -8.09016302e-01, -1.64209902e-01,  1.02966110e+00,\n",
       "        7.44946973e-01,  1.03283272e+00, -6.91854706e-01, -6.36401957e-01,\n",
       "        4.66471139e-01,  4.62122611e-01, -8.78211183e-01,  4.35668023e-01,\n",
       "        1.35395257e+00, -4.03756492e-01, -1.16841199e+00, -2.47726347e-01,\n",
       "        2.71886605e-01, -6.56856489e-01,  3.62424119e-01,  2.62007142e-01,\n",
       "        4.40178799e-01,  1.75083902e+00, -8.25504187e-02, -6.65693777e-01,\n",
       "        2.48631171e-01,  2.52645379e-01, -1.89145167e+00, -5.08475027e-01,\n",
       "        9.10356284e-01,  9.86900358e-01,  7.22874201e-01, -3.13649734e-01,\n",
       "       -2.46071280e+00,  3.03123819e-01,  3.78536670e-01,  1.91924989e-01,\n",
       "       -1.27386404e-01, -3.93438757e-01, -2.56974657e-01, -2.29608475e+00,\n",
       "        9.23719763e-01, -2.33943234e-03, -7.81082521e-01,  2.35607946e+00,\n",
       "        1.92528567e-01,  1.57873585e-01, -1.59871841e-01, -5.67602503e-01,\n",
       "        2.39754299e+00,  1.84606879e-01, -3.30073436e-01,  6.18757318e-01,\n",
       "        5.81542285e-01, -1.11118980e+00,  1.06027158e-01, -2.48604322e-01,\n",
       "       -7.25051647e-01,  6.34587317e-01, -1.06712124e+00,  1.27406382e+00,\n",
       "        1.49105831e-01,  3.52155913e-01,  8.44733194e-01,  4.08234132e-01,\n",
       "        2.31740219e+00, -9.01331212e-01,  1.39021179e+00, -1.18919552e+00,\n",
       "        1.40801388e-01,  3.61007141e-01, -8.07237078e-01, -5.31732453e-01,\n",
       "       -3.39455840e-01, -6.45583557e-02, -1.00031924e+00,  6.19820974e-01,\n",
       "        6.72713380e-01, -8.43018727e-01,  2.15189445e-01,  5.74614453e-01,\n",
       "        4.60094508e-01, -9.85029473e-01,  5.72609801e-01, -1.05438200e-01,\n",
       "       -7.35484030e-01, -1.56623430e+00, -1.14090467e+00,  2.18055941e-01,\n",
       "        2.64804871e+00,  4.30753410e-02, -8.43847979e-01, -1.19520487e+00,\n",
       "        1.67964231e-01, -2.35666024e-01,  1.83496066e+00, -2.09748425e+00,\n",
       "        4.49097371e-01,  4.66713907e-02, -3.31692368e-02, -2.16275631e+00,\n",
       "       -1.01677006e-01, -2.95285509e-01,  3.97675578e-01,  1.82372913e+00,\n",
       "        1.00298651e+00,  2.09973522e-01, -1.47132694e+00, -1.00998963e+00,\n",
       "        2.86875339e-01, -4.88469737e-01,  3.79189669e-01, -1.38159970e+00,\n",
       "       -1.15489130e+00,  7.28513121e-01, -1.62475611e-01, -6.03395145e-01,\n",
       "       -4.27906843e-01, -4.50714613e-01, -1.11663673e+00,  1.28800310e+00,\n",
       "        3.13087720e+00,  4.92276467e-01, -1.18957438e+00, -7.28071186e-01,\n",
       "       -7.27111225e-01, -3.42614450e-01, -1.03759716e+00, -3.22412718e-01,\n",
       "       -5.70610940e-01,  7.35036994e-01,  3.94614629e-01, -9.19962374e-01,\n",
       "       -1.36379975e+00, -2.95717262e-01, -2.16668242e+00, -4.03585073e-02,\n",
       "       -4.61117496e-01,  4.16893079e-02,  1.14511517e-01,  5.75806395e-01,\n",
       "       -5.18691560e-01,  8.08538884e-01,  1.64913845e+00,  1.25300475e+00,\n",
       "        5.93620525e-01,  4.71336488e-01,  6.82374457e-01, -9.19872906e-01,\n",
       "       -1.48495064e-01, -2.98679086e-01,  2.66045674e-01, -1.19394834e-01,\n",
       "        1.18731892e-01, -1.67304418e-01,  7.43810372e-01, -3.43719367e-01,\n",
       "       -1.32455540e+00, -1.07231738e+00, -2.30021392e-01,  7.11346360e-01,\n",
       "       -1.80807603e+00,  4.14838745e-01, -2.73610000e-01, -7.21348351e-01,\n",
       "        1.91848637e+00, -6.11466949e-01,  3.94133808e-01, -1.04721490e+00,\n",
       "       -6.15276262e-01,  9.05122545e-01, -3.18109002e+00, -1.01555960e-01,\n",
       "        1.60182697e+00, -1.66457318e-01, -3.70523606e-01, -8.08953361e-01,\n",
       "       -1.39394541e+00,  1.98429091e-02,  6.41489408e-01, -9.44960126e-01,\n",
       "       -1.69676871e-01, -3.50223289e-01, -8.74925543e-01, -6.78129272e-01,\n",
       "       -2.02473856e-01, -8.97952896e-01, -6.70414132e-01, -4.21347797e-01,\n",
       "        1.59722935e+00, -1.36296401e+00,  2.71441184e-01, -2.79324106e-01,\n",
       "       -2.19341669e-02,  1.14138240e+00,  2.13517318e-01,  6.53613435e-01,\n",
       "        9.97038766e-01,  1.90326538e+00, -1.75312127e+00, -1.07178343e+00,\n",
       "       -2.95816639e-01,  6.65523321e-01, -1.06291892e+00, -1.30676063e-01,\n",
       "       -8.35338779e-02,  4.11632772e-01, -1.43670878e-01,  1.33235543e+00,\n",
       "        6.33870979e-01, -2.21214686e+00,  5.25289154e-01, -1.07405057e+00,\n",
       "       -3.23292562e-01, -7.33982426e-01,  1.66203447e+00,  8.07450384e-01,\n",
       "       -1.35108961e+00, -3.19164720e-04, -2.62325594e-01,  1.20362825e+00,\n",
       "        4.12480647e-01, -4.95364109e-01,  5.29861761e-02, -6.29354660e-03,\n",
       "        6.92980551e-02, -1.82938526e+00, -2.00350511e-01,  1.58795752e+00,\n",
       "       -1.25049148e+00,  7.19986572e-01,  1.07456743e+00, -2.04213886e-01,\n",
       "        6.51051302e-01, -2.28991183e-01, -4.33688969e-01,  2.88002551e-01,\n",
       "       -5.26737781e-01,  1.52653303e-01, -3.25578337e-01,  7.06633474e-01,\n",
       "       -1.47009739e+00,  1.52914728e+00,  8.88036329e-01, -7.45534597e-03,\n",
       "        1.28921169e+00, -5.10060271e-01,  1.11015129e-01, -1.47621041e-01,\n",
       "        1.14062627e+00, -5.58266186e-01, -3.47882553e-01, -3.36232790e-01,\n",
       "       -5.64724760e-01, -7.35896129e-01, -4.36011724e-01,  2.65106466e-01,\n",
       "       -5.73385253e-01, -5.56404769e-03, -6.30043552e-01,  1.07079616e+00,\n",
       "        2.62879927e-01, -2.01026375e-01,  1.51978146e+00,  1.49068873e+00,\n",
       "       -8.43850180e-01, -9.46719629e-01, -3.88531128e-01,  1.13812646e+00,\n",
       "        6.79290668e-01,  8.46929021e-02, -1.17818987e+00, -3.63067311e+00,\n",
       "       -1.86335748e-01, -1.38699513e-01, -4.86005874e-01,  1.47964885e+00,\n",
       "       -1.46853757e+00,  5.78806976e-03,  9.20571177e-02, -3.36642316e-01,\n",
       "       -1.55362073e-01,  3.45188167e-01,  1.05697636e+00,  1.42772301e-01,\n",
       "        3.42545229e-01,  1.10676614e+00, -6.34162015e-01, -1.47627217e+00,\n",
       "        1.20668824e+00,  5.24722171e-02, -8.03536656e-01,  1.72596282e-01,\n",
       "       -1.39201422e+00,  1.19506305e+00,  3.97727987e-01, -7.96282088e-01,\n",
       "       -1.25840660e-01,  1.55407480e+00, -2.71559143e+00,  1.34674544e+00,\n",
       "        4.11029824e-01, -1.57965601e+00,  1.32228002e+00, -1.35293651e+00,\n",
       "        5.54956891e-01, -9.87130754e-01, -3.27149539e-01, -4.60761620e-01,\n",
       "        8.43388205e-01,  1.65575966e+00, -4.18398867e-01,  9.41992867e-01,\n",
       "        3.06471699e-01, -8.67527699e-02,  7.39514596e-01,  1.15705132e+00,\n",
       "        7.31956038e-01,  1.77532123e-01,  2.47186761e-01,  7.35393521e-01,\n",
       "        2.12323482e+00,  7.40150232e-01,  7.61814548e-01, -7.86687318e-01,\n",
       "       -3.41990998e-02, -1.64163908e-01,  3.83220627e-01,  7.47970202e-01,\n",
       "       -4.15196838e-01, -2.13772615e-01,  5.59919491e-01,  2.65088755e-01,\n",
       "        1.74886486e+00,  2.72359287e-01,  1.29362910e+00,  1.12931961e+00,\n",
       "        1.72856763e+00, -2.52164484e-01, -7.92526011e-01, -3.90357211e-01,\n",
       "       -2.13044521e+00, -2.69978059e-01, -1.09079055e-01, -1.29066735e+00,\n",
       "       -2.31860673e-01, -1.16404226e+00,  9.05103416e-01,  2.54016056e-01,\n",
       "       -5.22993954e-01,  2.68704256e-01, -2.12061583e-01,  1.31950522e+00,\n",
       "        1.22157529e+00, -2.54240162e-01, -1.08564542e+00,  1.96971012e-01,\n",
       "        9.69782223e-01, -1.54143126e+00,  1.21015291e+00, -5.36397987e-01,\n",
       "       -2.93974430e-01,  9.09668375e-01, -7.63888403e-01, -1.05303842e+00,\n",
       "       -2.44901634e-01,  5.59913760e-01, -1.49896602e+00, -7.50679377e-01,\n",
       "       -1.77240442e-01, -5.70938265e-01, -1.14542227e+00,  2.50678991e-01,\n",
       "       -1.21891370e-01, -1.01115773e+00, -3.73064780e-01, -1.14995908e-01,\n",
       "       -1.02000127e+00, -3.38659566e-02, -1.86480166e-01, -3.21444096e-01,\n",
       "       -1.97264665e+00, -1.17237405e+00, -7.71601290e-02, -7.79436088e-01,\n",
       "        6.86037475e-01,  2.08237156e+00, -2.92147780e-01, -5.82907010e-01,\n",
       "       -1.34057355e-01,  4.21709369e-01, -1.51451076e+00,  2.01132142e+00,\n",
       "        1.10220035e+00, -1.48427011e+00, -1.62582123e+00,  9.29288810e-01,\n",
       "        1.37029095e+00,  9.10127245e-01, -3.72392165e-01, -1.54818944e+00,\n",
       "       -5.26154093e-01, -1.20919885e+00,  2.88783656e-01, -6.22043301e-01,\n",
       "        7.55974799e-01,  8.80659088e-02,  2.70882797e+00, -1.24463784e+00,\n",
       "       -6.68141855e-01,  9.67472957e-01,  1.21056045e+00, -1.30328552e+00,\n",
       "        2.03469749e-02, -1.03329364e+00,  9.55407115e-02, -8.49168690e-01,\n",
       "        4.29318414e-01,  1.70128353e+00,  2.04854066e+00,  2.94466894e-01,\n",
       "        1.95559971e+00,  5.18743872e-01,  2.31571242e+00, -3.39340112e-01,\n",
       "       -3.15525226e-01, -9.11457989e-01,  1.21369064e+00,  1.97874030e+00,\n",
       "       -1.03353804e+00,  1.01092162e+00, -2.33873506e-01, -2.80426938e-01,\n",
       "       -6.37749919e-01, -1.47497158e+00,  5.10085121e-01, -1.06399672e+00,\n",
       "       -4.71983167e-02,  1.44254734e-02, -2.89169477e-01,  7.17186134e-02,\n",
       "       -5.39307889e-01,  3.03424349e-02, -4.63775088e-01, -9.60956955e-01,\n",
       "       -1.95557228e-01, -7.40944234e-01,  9.36496346e-01,  1.44890140e+00,\n",
       "        4.99147549e-01, -1.13355779e+00, -6.58238174e-01, -2.62216943e-01,\n",
       "       -1.10435498e+00,  9.76650353e-01,  1.89432500e+00, -8.10638881e-01,\n",
       "       -8.18254055e-01,  8.27634950e-01,  1.41357678e-02,  7.14663363e-01,\n",
       "       -1.36666430e+00, -7.94659240e-01,  1.03416869e+00,  1.39062181e+00,\n",
       "       -9.04467409e-01, -1.26051335e+00,  2.98476612e+00,  1.38907787e+00,\n",
       "       -1.90082752e+00,  1.23149339e+00,  1.48920504e+00, -5.00604479e-01,\n",
       "        2.35243422e-01, -8.04335100e-01,  1.15156894e-01, -1.34091787e+00,\n",
       "       -9.10968647e-01,  7.39728889e-01, -6.93906948e-01,  2.40434883e-01,\n",
       "        5.13870204e-01,  4.69361832e-01, -8.88145742e-01, -5.62344041e-01,\n",
       "        5.85842169e-01, -1.38568579e+00, -9.20321523e-02, -4.74135179e-02,\n",
       "        7.49777889e-01,  7.01477495e-01, -7.66516518e-01, -8.56191728e-01,\n",
       "       -1.17678382e+00, -5.93573895e-01, -8.19755452e-01, -5.29536714e-01,\n",
       "       -5.45128417e-01,  2.75025920e-01, -1.52428753e+00,  9.18615613e-01,\n",
       "       -1.55065751e+00,  9.44295202e-01, -5.45731786e-01, -8.17499575e-01,\n",
       "       -6.38805879e-01,  2.14286196e-01,  6.06340292e-01,  5.50969228e-01,\n",
       "       -3.73852665e-01,  7.61405094e-01,  1.24997547e+00, -4.54950939e-01,\n",
       "       -1.16950916e+00,  1.18241717e-02,  1.23795130e+00, -2.21764541e-01,\n",
       "       -1.89774743e-01, -5.18462569e-01, -4.86194911e-01, -1.65807110e-01,\n",
       "        4.55961385e-01,  1.49005198e+00, -8.87587727e-01,  3.75928042e-01,\n",
       "        2.99820962e-01,  8.24887458e-01,  4.41762993e-02,  6.11878319e-01,\n",
       "        5.58538352e-01, -9.71636070e-01,  4.78556613e-01, -1.27425699e+00,\n",
       "        3.11353137e-01, -5.70367553e-01,  2.23496238e+00,  1.20773953e-01,\n",
       "       -8.66877078e-01, -1.94102252e+00, -6.36775061e-01,  8.61695272e-01,\n",
       "       -9.74831347e-01,  3.73232209e-01,  1.30208196e+00,  1.45428495e+00,\n",
       "        4.18022803e-01,  1.03215542e+00, -1.01821593e+00, -6.88384160e-01,\n",
       "        1.72897124e-01,  6.10553352e-01,  1.20882008e+00,  7.16305206e-02,\n",
       "       -3.95751310e-01,  9.71523841e-01,  3.09413381e-01,  1.07887202e+00,\n",
       "       -8.65974839e-01, -9.63590670e-01, -1.03263485e-01,  1.64503120e-01,\n",
       "       -4.09055087e-01, -3.25456900e-03, -1.24594019e+00,  1.73248812e+00,\n",
       "       -1.01957590e+00,  1.29067773e+00, -1.38584917e+00, -1.85446586e+00,\n",
       "        7.18072772e-01,  5.94731006e-01,  3.52613186e+00,  5.57501678e-01,\n",
       "        1.82113676e-01, -2.47480320e-01,  9.64039894e-01, -1.47176163e+00,\n",
       "       -7.87315921e-01,  3.72528337e-01, -1.05335315e+00,  7.19004997e-01,\n",
       "       -5.87382451e-01,  1.68631491e-01, -2.07262477e-01,  3.00610290e-01,\n",
       "        1.86830477e+00, -1.36920262e+00,  6.33745730e-01, -4.90245313e-01,\n",
       "        3.91381774e-01,  3.47656579e-01,  1.61505048e+00,  8.27419483e-01,\n",
       "       -6.74804167e-01,  6.76960502e-01, -1.52016521e+00, -2.91340902e-01,\n",
       "        2.46400642e-01,  1.26146653e-01,  2.27387943e-01, -1.95813860e-01,\n",
       "       -6.18557752e-01, -6.22714993e-01, -1.07094780e+00,  8.86752076e-01,\n",
       "        4.37498239e-01, -6.94367448e-01, -1.04010145e+00, -1.28019588e+00,\n",
       "        1.07123143e+00, -5.71047603e-01, -1.45872708e-01,  9.83077472e-01,\n",
       "        1.30595853e+00, -2.11856297e+00,  6.71226781e-01,  5.61989412e-01,\n",
       "       -1.05260060e+00,  1.26837408e+00,  9.84185227e-01, -2.81615188e-01,\n",
       "        1.77750123e+00,  3.25859048e-01,  1.01461222e+00, -4.05213904e-01,\n",
       "       -3.60850349e-01,  1.02609639e+00, -4.25776376e-01, -5.23821181e-01,\n",
       "        1.69368260e-01, -1.48880256e-02, -1.25416479e+00, -1.67492181e+00,\n",
       "        1.31614505e+00,  5.32398517e-01, -8.41419962e-02, -9.60503449e-01,\n",
       "        1.20942994e+00,  4.04026197e-01, -1.74275569e+00,  1.03442348e+00,\n",
       "       -9.33760958e-01, -1.63933594e-01,  6.29671628e-01, -4.29814613e-01,\n",
       "       -6.47157941e-01,  1.21606021e+00, -9.33929479e-01,  5.68175024e-02,\n",
       "       -1.05047727e+00, -2.15868255e+00,  1.42520217e+00,  4.01926970e-01,\n",
       "       -1.14823350e+00,  1.20634186e-01,  4.45602701e-01,  2.46936297e-01,\n",
       "       -1.72202668e+00, -1.15383067e+00, -8.22282943e-02,  2.54112004e+00,\n",
       "       -1.07612050e+00,  6.25857742e-01, -7.73002440e-01, -4.84774899e-02,\n",
       "       -1.41258710e+00,  1.44049962e-01, -9.59245481e-01,  2.92539456e-01,\n",
       "        2.14292742e-02,  9.11247877e-01, -1.73863810e+00, -8.06357077e-01,\n",
       "        1.06448235e+00, -8.20072968e-02, -1.14284273e-01, -3.25427502e-01,\n",
       "        6.00511771e-01,  1.40232241e+00, -1.70390174e+00, -2.37199308e-01,\n",
       "        3.97526023e-01, -1.27246293e+00,  2.04855974e+00, -1.43584017e-01,\n",
       "       -2.53745013e-01,  2.31299232e-01, -9.48516257e-01, -9.99710064e-01,\n",
       "       -1.79623687e+00,  5.85433358e-01, -6.67534295e-01,  8.13425358e-03,\n",
       "        3.14218176e-01, -1.38622591e+00,  6.03546495e-01, -4.40983919e-01,\n",
       "        1.87153231e-02,  1.92519562e-01,  1.73585142e-01,  5.20478271e-02,\n",
       "       -3.20588851e-01, -1.33713754e+00, -6.69909097e-01,  3.25750224e-01,\n",
       "       -1.18238700e+00, -7.92480452e-01, -1.18664403e+00,  1.18488710e+00,\n",
       "       -4.90239120e-03,  3.91242549e-01,  8.33146565e-01,  1.96673698e-02,\n",
       "        6.43437229e-01,  9.98722216e-01, -1.39899383e-01,  1.30891425e+00,\n",
       "       -2.80427741e-02,  1.04875360e-01,  7.39940327e-01, -2.28731041e-01,\n",
       "       -2.47020046e+00,  9.29215224e-01,  2.59305180e-02, -4.51640971e-01,\n",
       "        4.10741547e-02, -1.26095876e+00, -5.10595206e-01, -9.61274007e-01,\n",
       "       -6.61516371e-01, -1.11059833e+00, -5.99865364e-01,  6.61109091e-01,\n",
       "        1.63273586e+00, -1.09370290e+00,  1.88044056e-01, -8.81300535e-01,\n",
       "       -2.38894675e-01,  1.25254188e-01, -3.07007417e-01,  3.90797434e-01,\n",
       "        1.01721942e+00, -4.74916225e-01, -3.74949731e-01, -5.25262586e-01,\n",
       "        7.15423228e-01,  6.96482625e-01, -4.35123501e-01,  3.41147621e-01,\n",
       "       -1.12146735e-02,  1.25495651e+00, -9.58383567e-01, -7.24575079e-01,\n",
       "       -1.59182054e+00,  5.60921090e-01, -1.63434336e-01,  4.53938331e-01,\n",
       "        4.15832972e-03,  8.89606451e-02, -9.52322672e-01,  2.07068194e+00,\n",
       "        6.17764074e-01,  1.24557138e+00,  4.89678735e-01, -7.07968121e-02,\n",
       "       -4.12634729e-01, -1.46333443e-01, -7.29573512e-01, -1.24430510e-01,\n",
       "       -9.71835602e-01,  5.73786255e-01,  1.74922726e+00, -2.21237386e+00,\n",
       "       -9.94788919e-01, -1.28364885e+00,  8.26364126e-01, -2.05174151e-01,\n",
       "       -1.06091328e+00,  6.90372381e-02,  2.48309414e+00,  5.22033954e-01,\n",
       "        1.28641876e+00,  4.82518363e-02, -1.16879583e+00, -9.33277721e-02,\n",
       "        1.64994872e-02, -2.32790134e+00, -1.02466562e+00, -1.99758041e-01,\n",
       "       -8.67855108e-01, -8.61613459e-01, -1.20206304e+00, -6.06510794e-02,\n",
       "        8.01954439e-01,  4.13009787e-01, -1.50257294e+00,  2.68277442e-01,\n",
       "        1.32147535e-01,  1.11914620e-01, -1.99799264e+00,  8.41685425e-01,\n",
       "       -1.80198910e-01, -1.97579229e-01,  1.22312224e+00, -5.04911977e-01,\n",
       "       -7.59013267e-01, -1.56404813e+00, -5.13813025e-01,  4.64716252e-01,\n",
       "        1.08686991e+00, -2.30796578e+00,  3.93689815e-02, -1.13120821e+00,\n",
       "        1.01952846e-01,  3.84982610e-01, -2.17677850e-01,  1.20429009e+00,\n",
       "       -2.58111288e-01,  1.43191413e+00, -5.69360449e-01, -6.56947509e-01,\n",
       "       -1.79770144e-01,  1.25563162e+00, -9.45124804e-02, -1.83042046e+00,\n",
       "       -1.09743234e+00, -8.46901951e-01,  1.60321975e+00,  2.69031569e-01,\n",
       "       -1.90738084e-01,  4.51996536e-01,  1.37929292e+00,  3.90580366e-01,\n",
       "        4.25919079e-01, -6.58143556e-01,  3.43529166e-02,  3.55769262e-01,\n",
       "        2.45102247e-02,  9.86787714e-01, -4.59871057e-01,  7.29500936e-01,\n",
       "        1.59193137e+00, -9.15925933e-01,  7.84031593e-01,  2.48468657e-01,\n",
       "        9.75708363e-01,  6.53855551e-01,  1.84286407e-01, -1.19941711e-01,\n",
       "        1.98174981e+00, -4.60794954e-01,  4.57565070e-01,  3.02927420e-01,\n",
       "       -2.47362321e-01,  1.07832307e+00, -2.43634437e+00,  5.28810608e-01,\n",
       "       -1.16443866e+00,  6.84211323e-01,  3.24993601e-01, -8.19396221e-01,\n",
       "        5.00135956e-02,  5.38083194e-01,  8.69900724e-01, -2.02193932e+00,\n",
       "       -1.45118027e+00,  1.33856537e+00,  1.19538391e+00, -4.96793232e-02,\n",
       "       -3.11124082e-01,  1.10581035e+00,  5.06161546e-02, -1.70297962e-01,\n",
       "        4.98966074e-01, -1.27568120e+00, -1.54465587e+00, -8.26483120e-01,\n",
       "        1.02402328e+00,  1.87940614e+00, -3.26840541e-01, -1.58578840e+00,\n",
       "        4.23824091e-01, -9.62153374e-01,  1.29185029e-01, -3.57591869e-01,\n",
       "        1.79666252e-02, -1.08618239e+00,  3.28541344e-01,  3.40351462e-01,\n",
       "        3.30207936e-01, -4.84717350e-02,  3.56546242e-01,  1.54570511e+00,\n",
       "       -1.25673638e-01, -8.21751185e-01,  1.49079334e+00,  5.32093381e-01,\n",
       "        9.68291714e-02,  4.00558384e-01,  5.53290975e-01,  8.67433946e-01,\n",
       "       -1.27159941e+00,  1.74488676e-01,  2.48293483e+00, -7.19249691e-01,\n",
       "        8.32963097e-01,  1.25788596e+00,  2.02830534e+00,  1.14843401e+00,\n",
       "        1.05237792e+00, -6.12530980e-01,  1.99692553e+00,  5.60689366e-01,\n",
       "        1.61783511e-01, -1.56753910e+00,  1.78740529e+00,  2.79850282e-01,\n",
       "        2.08460555e+00, -1.56928718e+00,  9.43715913e-01,  9.25282725e-01,\n",
       "        1.38696346e+00,  9.71177658e-01,  3.76155306e-03, -1.75059201e-01,\n",
       "       -1.45570556e-01,  1.31996734e+00,  2.38999643e-01, -3.87264718e-02,\n",
       "        1.70600883e+00,  3.97711142e-01, -7.02134228e-01,  2.87980460e-01,\n",
       "        1.26509112e+00,  1.65902687e+00, -2.04562672e-01,  7.25865654e-01,\n",
       "       -1.13446718e+00, -5.25772877e-01, -5.90883256e-01,  1.75809010e-01,\n",
       "       -2.38159156e-01, -9.64456725e-01, -2.90283536e-01,  1.74429808e+00,\n",
       "        9.40992944e-01, -1.65184336e+00,  6.73052360e-02,  9.46962003e-01,\n",
       "        1.32453860e+00, -2.76094910e-01,  1.51667921e+00, -1.56606627e-01,\n",
       "        5.28888442e-02, -7.18505560e-01, -8.30399225e-02,  1.50649768e-01,\n",
       "       -2.05277913e-01,  5.12618990e-01,  7.02425528e-01, -6.64607282e-01,\n",
       "       -1.35303329e+00,  9.26663027e-01,  1.22980716e-01,  1.23495850e+00,\n",
       "        1.65398387e-01, -1.01625923e+00, -5.07689701e-01,  2.68427076e-01,\n",
       "       -4.61689651e-01, -3.10260287e-01, -3.31952760e-01,  6.77361032e-01,\n",
       "       -4.58877081e-01, -3.88673809e-01, -7.32407660e-01,  2.81643707e-01,\n",
       "        1.67333838e+00, -6.98954991e-01, -5.15231115e-01, -2.12010929e-01,\n",
       "        1.63754635e+00,  8.79436004e-01,  6.57478339e-01, -1.10265042e+00])"
      ]
     },
     "execution_count": 23,
     "metadata": {},
     "output_type": "execute_result"
    }
   ],
   "source": [
    "np.random.standard_normal(1000)"
   ]
  },
  {
   "cell_type": "code",
   "execution_count": 24,
   "id": "00d60593-b305-4870-8563-23a8957f402a",
   "metadata": {},
   "outputs": [
    {
     "data": {
      "image/png": "[encoded data removed]",
      "text/plain": [
       "<Figure size 2000x800 with 1 Axes>"
      ]
     },
     "metadata": {},
     "output_type": "display_data"
    }
   ],
   "source": [
    "# 生成正态分布小案例\n",
    "# 0. 准备数据\n",
    "x1 = np.random.normal(1.65, 0.15, 100000000)\n",
    "\n",
    "# 1. 创建画布\n",
    "plt.figure(figsize=(20, 8), dpi=100)\n",
    "\n",
    "# 2. 绘制直方图\n",
    "plt.hist(x1, 1000)\n",
    "\n",
    "# 3. 展示\n",
    "plt.show()"
   ]
  },
  {
   "cell_type": "markdown",
   "id": "4f956a62-a071-42e2-beae-955d18cf22c5",
   "metadata": {},
   "source": [
    "# 2 数组的索引、切片"
   ]
  },
  {
   "cell_type": "code",
   "execution_count": 25,
   "id": "446d01fa-5b83-4fc5-b1ff-f5c0d47ba16f",
   "metadata": {},
   "outputs": [],
   "source": [
    "# 创建符合正态分布的4只股票5天的涨跌幅数据\n",
    "stock_change = np.random.normal(0, 1, (4, 5))"
   ]
  },
  {
   "cell_type": "code",
   "execution_count": 26,
   "id": "c5a7dcb6-ba72-4f60-8f66-535ee942c6c9",
   "metadata": {},
   "outputs": [
    {
     "data": {
      "text/plain": [
       "array([[ 0.19266568,  0.10820295, -0.35651163,  1.95574515,  0.93998623],\n",
       "       [-0.2373567 ,  1.01314015,  1.3546454 , -0.3575893 , -0.16087415],\n",
       "       [-0.7276498 ,  0.42544731,  0.98213873,  2.04037862, -1.72258377],\n",
       "       [ 0.70195399, -0.08708162, -0.60116169,  0.64805075,  0.21972321]])"
      ]
     },
     "execution_count": 26,
     "metadata": {},
     "output_type": "execute_result"
    }
   ],
   "source": [
    "stock_change"
   ]
  },
  {
   "cell_type": "code",
   "execution_count": 27,
   "id": "db54a186-8c60-4812-b39d-97edff5b7023",
   "metadata": {},
   "outputs": [
    {
     "data": {
      "text/plain": [
       "array([ 0.19266568,  0.10820295, -0.35651163])"
      ]
     },
     "execution_count": 27,
     "metadata": {},
     "output_type": "execute_result"
    }
   ],
   "source": [
    "# 二维的数组，两个维度 \n",
    "stock_change[0, 0:3]  # 获取第一行前三列，先行后列"
   ]
  },
  {
   "cell_type": "code",
   "execution_count": 28,
   "id": "34fdc3cb-164a-424b-8a3c-c638b1dc2d70",
   "metadata": {},
   "outputs": [],
   "source": [
    "# 三维\n",
    "a1 = np.array([ [[1,2,3],[4,5,6]], [[12,3,34],[5,6,7]]])"
   ]
  },
  {
   "cell_type": "code",
   "execution_count": 29,
   "id": "aa2f3807-9082-4dfb-9e41-6ca2ea514299",
   "metadata": {},
   "outputs": [
    {
     "data": {
      "text/plain": [
       "array([[[ 1,  2,  3],\n",
       "        [ 4,  5,  6]],\n",
       "\n",
       "       [[12,  3, 34],\n",
       "        [ 5,  6,  7]]])"
      ]
     },
     "execution_count": 29,
     "metadata": {},
     "output_type": "execute_result"
    }
   ],
   "source": [
    "a1"
   ]
  },
  {
   "cell_type": "code",
   "execution_count": 30,
   "id": "8e608d46-ad64-4cf4-acbc-6d5b072a04dd",
   "metadata": {},
   "outputs": [
    {
     "data": {
      "text/plain": [
       "2"
      ]
     },
     "execution_count": 30,
     "metadata": {},
     "output_type": "execute_result"
    }
   ],
   "source": [
    "# 索引、切片\n",
    "a1[0, 0, 1]  # 获取第一块第一行第二个数，先宏观后微观"
   ]
  },
  {
   "cell_type": "code",
   "execution_count": 31,
   "id": "dae5d7dc-f854-4891-8041-900b9453a45f",
   "metadata": {},
   "outputs": [
    {
     "data": {
      "text/plain": [
       "12"
      ]
     },
     "execution_count": 31,
     "metadata": {},
     "output_type": "execute_result"
    }
   ],
   "source": [
    "a1[1, 0 ,0]  # 获取第二块第一行第一个数"
   ]
  },
  {
   "cell_type": "markdown",
   "id": "98171806-45f8-486e-afc8-3588ba03fab4",
   "metadata": {},
   "source": [
    "# 3 形状修改"
   ]
  },
  {
   "cell_type": "code",
   "execution_count": 32,
   "id": "7ceae437-e666-4261-9cd4-6a37f063b0c3",
   "metadata": {},
   "outputs": [
    {
     "data": {
      "text/plain": [
       "array([[ 0.19266568,  0.10820295, -0.35651163,  1.95574515],\n",
       "       [ 0.93998623, -0.2373567 ,  1.01314015,  1.3546454 ],\n",
       "       [-0.3575893 , -0.16087415, -0.7276498 ,  0.42544731],\n",
       "       [ 0.98213873,  2.04037862, -1.72258377,  0.70195399],\n",
       "       [-0.08708162, -0.60116169,  0.64805075,  0.21972321]])"
      ]
     },
     "execution_count": 32,
     "metadata": {},
     "output_type": "execute_result"
    }
   ],
   "source": [
    "stock_change.reshape([5,4])  # 将数组变为 5 行 4 列"
   ]
  },
  {
   "cell_type": "code",
   "execution_count": 33,
   "id": "5a88de1a-25b8-4c42-a412-1ccc1e7ff153",
   "metadata": {},
   "outputs": [
    {
     "data": {
      "text/plain": [
       "array([[ 0.19266568,  0.10820295, -0.35651163,  1.95574515,  0.93998623,\n",
       "        -0.2373567 ,  1.01314015,  1.3546454 , -0.3575893 , -0.16087415],\n",
       "       [-0.7276498 ,  0.42544731,  0.98213873,  2.04037862, -1.72258377,\n",
       "         0.70195399, -0.08708162, -0.60116169,  0.64805075,  0.21972321]])"
      ]
     },
     "execution_count": 33,
     "metadata": {},
     "output_type": "execute_result"
    }
   ],
   "source": [
    "stock_change.reshape([-1,10])  # 数组的形状被修改为: (2, 10), -1: 表示通过待计算，如果不能计算会报错。返回新的数组"
   ]
  },
  {
   "cell_type": "code",
   "execution_count": 34,
   "id": "d57b2227-4f17-4c98-82a9-7965d21cc9d6",
   "metadata": {},
   "outputs": [
    {
     "data": {
      "text/plain": [
       "array([[ 0.19266568,  0.10820295, -0.35651163,  1.95574515,  0.93998623],\n",
       "       [-0.2373567 ,  1.01314015,  1.3546454 , -0.3575893 , -0.16087415],\n",
       "       [-0.7276498 ,  0.42544731,  0.98213873,  2.04037862, -1.72258377],\n",
       "       [ 0.70195399, -0.08708162, -0.60116169,  0.64805075,  0.21972321]])"
      ]
     },
     "execution_count": 34,
     "metadata": {},
     "output_type": "execute_result"
    }
   ],
   "source": [
    "stock_change"
   ]
  },
  {
   "cell_type": "code",
   "execution_count": 35,
   "id": "10fa6d26-0afe-412f-8daf-1c074f82ba8f",
   "metadata": {},
   "outputs": [],
   "source": [
    "stock_change.resize([5, 4])  # 对原来值进行修改"
   ]
  },
  {
   "cell_type": "code",
   "execution_count": 36,
   "id": "eb943062-19aa-438b-90dc-d667d0b5b88e",
   "metadata": {},
   "outputs": [
    {
     "data": {
      "text/plain": [
       "array([[ 0.19266568,  0.10820295, -0.35651163,  1.95574515],\n",
       "       [ 0.93998623, -0.2373567 ,  1.01314015,  1.3546454 ],\n",
       "       [-0.3575893 , -0.16087415, -0.7276498 ,  0.42544731],\n",
       "       [ 0.98213873,  2.04037862, -1.72258377,  0.70195399],\n",
       "       [-0.08708162, -0.60116169,  0.64805075,  0.21972321]])"
      ]
     },
     "execution_count": 36,
     "metadata": {},
     "output_type": "execute_result"
    }
   ],
   "source": [
    "stock_change"
   ]
  },
  {
   "cell_type": "code",
   "execution_count": 37,
   "id": "70eddda6-a48d-44c0-a4ca-2552ef6d39d7",
   "metadata": {},
   "outputs": [
    {
     "data": {
      "text/plain": [
       "array([[ 0.19266568,  0.93998623, -0.3575893 ,  0.98213873, -0.08708162],\n",
       "       [ 0.10820295, -0.2373567 , -0.16087415,  2.04037862, -0.60116169],\n",
       "       [-0.35651163,  1.01314015, -0.7276498 , -1.72258377,  0.64805075],\n",
       "       [ 1.95574515,  1.3546454 ,  0.42544731,  0.70195399,  0.21972321]])"
      ]
     },
     "execution_count": 37,
     "metadata": {},
     "output_type": "execute_result"
    }
   ],
   "source": [
    "stock_change.T  # 数组的转置，即将数组的行、列进行互换"
   ]
  },
  {
   "cell_type": "markdown",
   "id": "38ea8f57-965b-499d-9d80-a98c03da981b",
   "metadata": {},
   "source": [
    "# 4 类型修改"
   ]
  },
  {
   "cell_type": "code",
   "execution_count": 38,
   "id": "1004503e-e26e-49f8-addd-191195c2b2ec",
   "metadata": {},
   "outputs": [
    {
     "data": {
      "text/plain": [
       "array([[ 0.19266568,  0.10820295, -0.35651163,  1.95574515],\n",
       "       [ 0.93998623, -0.2373567 ,  1.01314015,  1.3546454 ],\n",
       "       [-0.3575893 , -0.16087415, -0.7276498 ,  0.42544731],\n",
       "       [ 0.98213873,  2.04037862, -1.72258377,  0.70195399],\n",
       "       [-0.08708162, -0.60116169,  0.64805075,  0.21972321]])"
      ]
     },
     "execution_count": 38,
     "metadata": {},
     "output_type": "execute_result"
    }
   ],
   "source": [
    "stock_change"
   ]
  },
  {
   "cell_type": "code",
   "execution_count": 41,
   "id": "0c4fda50-fd1d-4111-b973-251af4abcf71",
   "metadata": {},
   "outputs": [
    {
     "data": {
      "text/plain": [
       "array([[ 0,  0,  0,  1],\n",
       "       [ 0,  0,  1,  1],\n",
       "       [ 0,  0,  0,  0],\n",
       "       [ 0,  2, -1,  0],\n",
       "       [ 0,  0,  0,  0]])"
      ]
     },
     "execution_count": 41,
     "metadata": {},
     "output_type": "execute_result"
    }
   ],
   "source": [
    "stock_change.astype(np.int32)  # 修改类型为 int32"
   ]
  },
  {
   "cell_type": "code",
   "execution_count": 40,
   "id": "7bdac069-2d87-4e8a-b835-7ad56c1c76c0",
   "metadata": {},
   "outputs": [],
   "source": [
    "arr = np.array([[[1, 2, 3], [4, 5, 6]], [[12, 3, 34], [5, 6, 7]]])"
   ]
  },
  {
   "cell_type": "code",
   "execution_count": 45,
   "id": "aeb0d18e-ae84-4570-b054-184eb93988b5",
   "metadata": {},
   "outputs": [
    {
     "name": "stderr",
     "output_type": "stream",
     "text": [
      "C:\\Users\\Ryan\\AppData\\Local\\Temp\\ipykernel_20596\\3155550213.py:1: DeprecationWarning: tostring() is deprecated. Use tobytes() instead.\n",
      "  arr.tostring()  # 显示数组数据原始数据字节\n"
     ]
    },
    {
     "data": {
      "text/plain": [
       "b'\\x01\\x00\\x00\\x00\\x02\\x00\\x00\\x00\\x03\\x00\\x00\\x00\\x04\\x00\\x00\\x00\\x05\\x00\\x00\\x00\\x06\\x00\\x00\\x00\\x0c\\x00\\x00\\x00\\x03\\x00\\x00\\x00\"\\x00\\x00\\x00\\x05\\x00\\x00\\x00\\x06\\x00\\x00\\x00\\x07\\x00\\x00\\x00'"
      ]
     },
     "execution_count": 45,
     "metadata": {},
     "output_type": "execute_result"
    }
   ],
   "source": [
    "arr.tostring()  # 显示数组数据原始数据字节"
   ]
  },
  {
   "cell_type": "markdown",
   "id": "70cd20d6-3da3-45d9-afe5-b10f953583aa",
   "metadata": {},
   "source": [
    "# 5 数据去重"
   ]
  },
  {
   "cell_type": "code",
   "execution_count": 46,
   "id": "e1806146-1d21-4c6d-8166-f74e39ad19eb",
   "metadata": {},
   "outputs": [],
   "source": [
    "temp = np.array([[1, 2, 3, 4],[3, 4, 5, 6]])"
   ]
  },
  {
   "cell_type": "code",
   "execution_count": 48,
   "id": "7243084a-71ac-48b5-aac3-6bdaa50f07e9",
   "metadata": {},
   "outputs": [
    {
     "data": {
      "text/plain": [
       "array([1, 2, 3, 4, 5, 6])"
      ]
     },
     "execution_count": 48,
     "metadata": {},
     "output_type": "execute_result"
    }
   ],
   "source": [
    "np.unique(temp)  # 对数组进行去重"
   ]
  },
  {
   "cell_type": "code",
   "execution_count": 54,
   "id": "3fd9d21c-0af7-4d1b-887c-63ca3de27a8e",
   "metadata": {},
   "outputs": [
    {
     "data": {
      "text/plain": [
       "dtype('int32')"
      ]
     },
     "execution_count": 54,
     "metadata": {},
     "output_type": "execute_result"
    }
   ],
   "source": [
    "np.array([[1,2,3],[2,4,6]]).dtype"
   ]
  },
  {
   "cell_type": "code",
   "execution_count": null,
   "id": "39346247-81d9-41e0-a628-7c80cc3ba239",
   "metadata": {},
   "outputs": [],
   "source": []
  }
 ],
 "metadata": {
  "kernelspec": {
   "display_name": "Python 3 (ipykernel)",
   "language": "python",
   "name": "python3"
  },
  "language_info": {
   "codemirror_mode": {
    "name": "ipython",
    "version": 3
   },
   "file_extension": ".py",
   "mimetype": "text/x-python",
   "name": "python",
   "nbconvert_exporter": "python",
   "pygments_lexer": "ipython3",
   "version": "3.10.12"
  }
 },
 "nbformat": 4,
 "nbformat_minor": 5
}
