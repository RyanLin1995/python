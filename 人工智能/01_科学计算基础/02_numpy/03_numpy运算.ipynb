{
 "cells": [
  {
   "cell_type": "code",
   "execution_count": 1,
   "id": "fe03d2c2-83a7-457e-84c8-6036ffc8457e",
   "metadata": {},
   "outputs": [],
   "source": [
    "import numpy as np"
   ]
  },
  {
   "cell_type": "markdown",
   "id": "e9563af0-e49a-4190-9e78-7d944b80e89b",
   "metadata": {},
   "source": [
    "# 1 逻辑运算"
   ]
  },
  {
   "cell_type": "code",
   "execution_count": 2,
   "id": "ae03dd49-77cf-473d-827c-02522413108f",
   "metadata": {},
   "outputs": [],
   "source": [
    "stock_change = np.random.normal(0, 1, (8, 10))"
   ]
  },
  {
   "cell_type": "code",
   "execution_count": 3,
   "id": "dfd062c1-9e26-4b8b-9d04-a6e413c04097",
   "metadata": {},
   "outputs": [
    {
     "data": {
      "text/plain": [
       "array([[ 0.85848086, -1.48644228,  0.64789524,  1.06635553, -0.05076336,\n",
       "         0.4245672 , -1.64936182, -0.20526267,  0.37906179,  0.19465065],\n",
       "       [ 1.01649917, -0.49663145, -2.0723559 ,  0.7849213 , -0.73893715,\n",
       "         0.26082083,  0.50152405, -1.6935424 , -0.24491688, -1.71176536],\n",
       "       [-0.26146325, -0.02172744,  1.21744779,  0.91392038, -1.66770048,\n",
       "         0.24255593,  0.683626  ,  1.04720288,  0.5191152 , -0.15288127],\n",
       "       [ 1.19631508, -2.08482455, -1.65046805,  0.47141738, -1.49488494,\n",
       "         0.53107113, -0.31911715,  1.45692605, -0.40050991, -0.09334368],\n",
       "       [ 0.23084687, -1.46092951,  0.4711128 , -0.90958163,  0.22160187,\n",
       "        -0.52045093,  1.20395945, -0.21272408,  0.01742941,  1.33621493],\n",
       "       [-0.66036472, -0.5730347 , -0.33323774,  0.47017441, -1.14116859,\n",
       "        -1.27910262, -0.88712875,  0.33731547,  1.67852053, -0.65727285],\n",
       "       [-0.10071421,  0.87619751, -0.60027529, -1.40680079,  0.58274316,\n",
       "         0.52636417, -0.22734125, -0.69342089, -0.22824871, -0.14940961],\n",
       "       [ 0.73118987, -1.34326288, -2.3661712 ,  0.78272508,  0.62740753,\n",
       "         1.44699869, -0.21111673, -1.29943497,  0.52016533, -1.2270721 ]])"
      ]
     },
     "execution_count": 3,
     "metadata": {},
     "output_type": "execute_result"
    }
   ],
   "source": [
    "stock_change"
   ]
  },
  {
   "cell_type": "code",
   "execution_count": 4,
   "id": "03c4d9b8-22d4-4328-8f91-1144564821f2",
   "metadata": {},
   "outputs": [],
   "source": [
    "stock_c = stock_change[0:5, 0:5]  # 获取前五行的前五个数"
   ]
  },
  {
   "cell_type": "code",
   "execution_count": 5,
   "id": "60e9e4b0-245d-4573-aa85-911195281303",
   "metadata": {},
   "outputs": [
    {
     "data": {
      "text/plain": [
       "array([[ 0.85848086, -1.48644228,  0.64789524,  1.06635553, -0.05076336],\n",
       "       [ 1.01649917, -0.49663145, -2.0723559 ,  0.7849213 , -0.73893715],\n",
       "       [-0.26146325, -0.02172744,  1.21744779,  0.91392038, -1.66770048],\n",
       "       [ 1.19631508, -2.08482455, -1.65046805,  0.47141738, -1.49488494],\n",
       "       [ 0.23084687, -1.46092951,  0.4711128 , -0.90958163,  0.22160187]])"
      ]
     },
     "execution_count": 5,
     "metadata": {},
     "output_type": "execute_result"
    }
   ],
   "source": [
    "stock_c"
   ]
  },
  {
   "cell_type": "code",
   "execution_count": 6,
   "id": "be31c50e-07ca-4813-b3b7-f238570d0dc7",
   "metadata": {},
   "outputs": [
    {
     "data": {
      "text/plain": [
       "array([[False, False, False,  True, False],\n",
       "       [ True, False, False, False, False],\n",
       "       [False, False,  True, False, False],\n",
       "       [ True, False, False, False, False],\n",
       "       [False, False, False, False, False]])"
      ]
     },
     "execution_count": 6,
     "metadata": {},
     "output_type": "execute_result"
    }
   ],
   "source": [
    "stock_c > 1  # 判断大于 1 的值"
   ]
  },
  {
   "cell_type": "code",
   "execution_count": 7,
   "id": "cc289cff-4223-482f-9f74-5f0405e6bb0e",
   "metadata": {},
   "outputs": [],
   "source": [
    "stock_c[stock_c > 1] = 1  # 满足要求时进行赋值"
   ]
  },
  {
   "cell_type": "code",
   "execution_count": 8,
   "id": "d708d9e0-92d1-4a8f-80a7-cc8eea611710",
   "metadata": {},
   "outputs": [
    {
     "data": {
      "text/plain": [
       "array([[ 0.85848086, -1.48644228,  0.64789524,  1.        , -0.05076336],\n",
       "       [ 1.        , -0.49663145, -2.0723559 ,  0.7849213 , -0.73893715],\n",
       "       [-0.26146325, -0.02172744,  1.        ,  0.91392038, -1.66770048],\n",
       "       [ 1.        , -2.08482455, -1.65046805,  0.47141738, -1.49488494],\n",
       "       [ 0.23084687, -1.46092951,  0.4711128 , -0.90958163,  0.22160187]])"
      ]
     },
     "execution_count": 8,
     "metadata": {},
     "output_type": "execute_result"
    }
   ],
   "source": [
    "stock_c"
   ]
  },
  {
   "cell_type": "code",
   "execution_count": 9,
   "id": "51bc034b-d318-458b-bda2-7cc922667d95",
   "metadata": {},
   "outputs": [
    {
     "data": {
      "text/plain": [
       "array([[ 0.85848086, -1.48644228,  0.64789524,  1.        , -0.05076336,\n",
       "         0.4245672 , -1.64936182, -0.20526267,  0.37906179,  0.19465065],\n",
       "       [ 1.        , -0.49663145, -2.0723559 ,  0.7849213 , -0.73893715,\n",
       "         0.26082083,  0.50152405, -1.6935424 , -0.24491688, -1.71176536],\n",
       "       [-0.26146325, -0.02172744,  1.        ,  0.91392038, -1.66770048,\n",
       "         0.24255593,  0.683626  ,  1.04720288,  0.5191152 , -0.15288127],\n",
       "       [ 1.        , -2.08482455, -1.65046805,  0.47141738, -1.49488494,\n",
       "         0.53107113, -0.31911715,  1.45692605, -0.40050991, -0.09334368],\n",
       "       [ 0.23084687, -1.46092951,  0.4711128 , -0.90958163,  0.22160187,\n",
       "        -0.52045093,  1.20395945, -0.21272408,  0.01742941,  1.33621493],\n",
       "       [-0.66036472, -0.5730347 , -0.33323774,  0.47017441, -1.14116859,\n",
       "        -1.27910262, -0.88712875,  0.33731547,  1.67852053, -0.65727285],\n",
       "       [-0.10071421,  0.87619751, -0.60027529, -1.40680079,  0.58274316,\n",
       "         0.52636417, -0.22734125, -0.69342089, -0.22824871, -0.14940961],\n",
       "       [ 0.73118987, -1.34326288, -2.3661712 ,  0.78272508,  0.62740753,\n",
       "         1.44699869, -0.21111673, -1.29943497,  0.52016533, -1.2270721 ]])"
      ]
     },
     "execution_count": 9,
     "metadata": {},
     "output_type": "execute_result"
    }
   ],
   "source": [
    "stock_change  # 注意，会对原来的值也进行了修改"
   ]
  },
  {
   "cell_type": "markdown",
   "id": "385c1577-6fcf-45ca-9ad7-643475142468",
   "metadata": {},
   "source": [
    "# 2 通用判断运算"
   ]
  },
  {
   "cell_type": "code",
   "execution_count": 10,
   "id": "f7cfe841-4310-4c31-865c-83755f61dca6",
   "metadata": {},
   "outputs": [],
   "source": [
    "stock_d = stock_change[6:, 0:5]"
   ]
  },
  {
   "cell_type": "code",
   "execution_count": 11,
   "id": "2debd0fd-87d7-4fb5-a525-a82b1b50d45a",
   "metadata": {},
   "outputs": [
    {
     "data": {
      "text/plain": [
       "array([[-0.10071421,  0.87619751, -0.60027529, -1.40680079,  0.58274316],\n",
       "       [ 0.73118987, -1.34326288, -2.3661712 ,  0.78272508,  0.62740753]])"
      ]
     },
     "execution_count": 11,
     "metadata": {},
     "output_type": "execute_result"
    }
   ],
   "source": [
    "stock_d"
   ]
  },
  {
   "cell_type": "code",
   "execution_count": 12,
   "id": "ad213e6a-fea6-44c6-b973-0fb71cbe81a0",
   "metadata": {},
   "outputs": [
    {
     "data": {
      "text/plain": [
       "False"
      ]
     },
     "execution_count": 12,
     "metadata": {},
     "output_type": "execute_result"
    }
   ],
   "source": [
    "np.all(stock_d > 0)  # 当全部大于 0 时，返回 True"
   ]
  },
  {
   "cell_type": "code",
   "execution_count": 13,
   "id": "34fa6e5a-4781-40a5-a45f-e2fdfe18366e",
   "metadata": {},
   "outputs": [
    {
     "data": {
      "text/plain": [
       "True"
      ]
     },
     "execution_count": 13,
     "metadata": {},
     "output_type": "execute_result"
    }
   ],
   "source": [
    "np.any(stock_d > 0)  # 当有一个或以上的值大于 0 时，返回 True"
   ]
  },
  {
   "cell_type": "markdown",
   "id": "46541d50-b985-4a9e-bd55-991ea4c0a6d1",
   "metadata": {},
   "source": [
    "# 3 np.where（三元运算符）"
   ]
  },
  {
   "cell_type": "code",
   "execution_count": 14,
   "id": "10152b0c-c561-46a2-9bf1-7bca374754c0",
   "metadata": {},
   "outputs": [
    {
     "data": {
      "text/plain": [
       "array([[0, 1, 0, 0, 1],\n",
       "       [1, 0, 0, 1, 1]])"
      ]
     },
     "execution_count": 14,
     "metadata": {},
     "output_type": "execute_result"
    }
   ],
   "source": [
    "np.where(stock_d > 0, 1, 0)  # 判断数组中的值。如果大于0的置为1，否则为0。三个参数分别为np.where(判断条件，为真时的值，为假时的值)"
   ]
  },
  {
   "cell_type": "markdown",
   "id": "f8f0b17e-8e88-4a6a-b004-e404301051c0",
   "metadata": {},
   "source": [
    "#### 复合逻辑需要结合 np.logical_and 和 np.logical_or 使用"
   ]
  },
  {
   "cell_type": "code",
   "execution_count": 15,
   "id": "7bf7edf6-b72c-4b8f-acf4-187cce7f1f89",
   "metadata": {},
   "outputs": [
    {
     "data": {
      "text/plain": [
       "array([[0, 1, 0, 0, 1],\n",
       "       [1, 0, 0, 1, 1]])"
      ]
     },
     "execution_count": 15,
     "metadata": {},
     "output_type": "execute_result"
    }
   ],
   "source": [
    "# 判断数组中的值，大于0.5且小于1的换为1，否则为0\n",
    "np.where(np.logical_and(stock_d > 0.5, stock_d < 1), 1, 0)"
   ]
  },
  {
   "cell_type": "code",
   "execution_count": 16,
   "id": "52f5746b-34cc-4346-86f4-4871e61a8a08",
   "metadata": {},
   "outputs": [
    {
     "data": {
      "text/plain": [
       "array([[1, 1, 1, 1, 1],\n",
       "       [1, 1, 1, 1, 1]])"
      ]
     },
     "execution_count": 16,
     "metadata": {},
     "output_type": "execute_result"
    }
   ],
   "source": [
    "# 判断数组中的值，大于0.5或小于0.1的换为1，否则为0\n",
    "np.where(np.logical_or(stock_d > 0.5, stock_d < 0.1), 1, 0)"
   ]
  },
  {
   "cell_type": "markdown",
   "id": "42afea16-217c-4447-adae-813785d6aadf",
   "metadata": {},
   "source": [
    "# 4 统计运算"
   ]
  },
  {
   "cell_type": "code",
   "execution_count": 17,
   "id": "b53ced63-b179-4d25-8dad-a67d4a424dac",
   "metadata": {},
   "outputs": [
    {
     "data": {
      "text/plain": [
       "array([[ 0.85848086, -1.48644228,  0.64789524,  1.        , -0.05076336,\n",
       "         0.4245672 , -1.64936182, -0.20526267,  0.37906179,  0.19465065],\n",
       "       [ 1.        , -0.49663145, -2.0723559 ,  0.7849213 , -0.73893715,\n",
       "         0.26082083,  0.50152405, -1.6935424 , -0.24491688, -1.71176536],\n",
       "       [-0.26146325, -0.02172744,  1.        ,  0.91392038, -1.66770048,\n",
       "         0.24255593,  0.683626  ,  1.04720288,  0.5191152 , -0.15288127],\n",
       "       [ 1.        , -2.08482455, -1.65046805,  0.47141738, -1.49488494,\n",
       "         0.53107113, -0.31911715,  1.45692605, -0.40050991, -0.09334368],\n",
       "       [ 0.23084687, -1.46092951,  0.4711128 , -0.90958163,  0.22160187,\n",
       "        -0.52045093,  1.20395945, -0.21272408,  0.01742941,  1.33621493],\n",
       "       [-0.66036472, -0.5730347 , -0.33323774,  0.47017441, -1.14116859,\n",
       "        -1.27910262, -0.88712875,  0.33731547,  1.67852053, -0.65727285],\n",
       "       [-0.10071421,  0.87619751, -0.60027529, -1.40680079,  0.58274316,\n",
       "         0.52636417, -0.22734125, -0.69342089, -0.22824871, -0.14940961],\n",
       "       [ 0.73118987, -1.34326288, -2.3661712 ,  0.78272508,  0.62740753,\n",
       "         1.44699869, -0.21111673, -1.29943497,  0.52016533, -1.2270721 ]])"
      ]
     },
     "execution_count": 17,
     "metadata": {},
     "output_type": "execute_result"
    }
   ],
   "source": [
    "stock_change"
   ]
  },
  {
   "cell_type": "code",
   "execution_count": 18,
   "id": "3e991318-a0e4-4ccc-a50c-64f6c507adb7",
   "metadata": {},
   "outputs": [
    {
     "data": {
      "text/plain": [
       "1.6785205288222582"
      ]
     },
     "execution_count": 18,
     "metadata": {},
     "output_type": "execute_result"
    }
   ],
   "source": [
    "stock_change.max()  # 返回所有数组中最大的值"
   ]
  },
  {
   "cell_type": "code",
   "execution_count": 19,
   "id": "fe0b1a4d-8688-4ddf-8d38-2a10f9abcde6",
   "metadata": {},
   "outputs": [
    {
     "data": {
      "text/plain": [
       "array([1.        , 1.        , 1.04720288, 1.45692605, 1.33621493,\n",
       "       1.67852053, 0.87619751, 1.44699869])"
      ]
     },
     "execution_count": 19,
     "metadata": {},
     "output_type": "execute_result"
    }
   ],
   "source": [
    "stock_change.max(axis=1)  # 返回各行中最大的值"
   ]
  },
  {
   "cell_type": "code",
   "execution_count": 20,
   "id": "04f34fe4-bd62-40dc-9bb1-60ea25075dbd",
   "metadata": {},
   "outputs": [
    {
     "data": {
      "text/plain": [
       "array([1.        , 0.87619751, 1.        , 1.        , 0.62740753,\n",
       "       1.44699869, 1.20395945, 1.45692605, 1.67852053, 1.33621493])"
      ]
     },
     "execution_count": 20,
     "metadata": {},
     "output_type": "execute_result"
    }
   ],
   "source": [
    "stock_change.max(axis=0)  # 返回各列中最大的值"
   ]
  },
  {
   "cell_type": "code",
   "execution_count": 21,
   "id": "5148e0b6-3654-4da8-9e2e-18efbccc4944",
   "metadata": {},
   "outputs": [
    {
     "data": {
      "text/plain": [
       "3"
      ]
     },
     "execution_count": 21,
     "metadata": {},
     "output_type": "execute_result"
    }
   ],
   "source": [
    "stock_c.argmax()  # 返回最大值的下标"
   ]
  },
  {
   "cell_type": "code",
   "execution_count": 22,
   "id": "1cc48f19-0d26-479f-8ffa-7678cfbb3e33",
   "metadata": {},
   "outputs": [
    {
     "data": {
      "text/plain": [
       "array([3, 0, 2, 0, 2], dtype=int64)"
      ]
     },
     "execution_count": 22,
     "metadata": {},
     "output_type": "execute_result"
    }
   ],
   "source": [
    "stock_c.argmax(axis=1)  # 返回各行最大值的下标"
   ]
  },
  {
   "cell_type": "code",
   "execution_count": 23,
   "id": "ce6390cd-7170-4f54-b545-15a7863f4d95",
   "metadata": {},
   "outputs": [
    {
     "data": {
      "text/plain": [
       "array([1, 2, 2, 0, 4], dtype=int64)"
      ]
     },
     "execution_count": 23,
     "metadata": {},
     "output_type": "execute_result"
    }
   ],
   "source": [
    "stock_c.argmax(axis=0)  # 返回各列最大值的下标"
   ]
  },
  {
   "cell_type": "code",
   "execution_count": 24,
   "id": "0e2b95f6-665d-4923-a4b1-45fe2e0d4cfa",
   "metadata": {},
   "outputs": [
    {
     "data": {
      "text/plain": [
       "array([1, 2, 4, 1, 1], dtype=int64)"
      ]
     },
     "execution_count": 24,
     "metadata": {},
     "output_type": "execute_result"
    }
   ],
   "source": [
    "stock_c.argmin(axis=1)  # 返回各行最小值的下标"
   ]
  },
  {
   "cell_type": "markdown",
   "id": "5b830ed2-0133-4cd6-8b76-82031e70f58e",
   "metadata": {},
   "source": [
    "# 5 数组运算"
   ]
  },
  {
   "cell_type": "code",
   "execution_count": 26,
   "id": "81084b78-ce6a-437a-8aa2-e7c5c790ade2",
   "metadata": {},
   "outputs": [],
   "source": [
    "arr = np.array([[1, 2, 3, 2, 1, 4], [5, 6, 1, 2, 3, 1]])"
   ]
  },
  {
   "cell_type": "code",
   "execution_count": 27,
   "id": "614723be-e7ec-4943-8903-8f0c49dabcdd",
   "metadata": {},
   "outputs": [
    {
     "data": {
      "text/plain": [
       "array([[2, 3, 4, 3, 2, 5],\n",
       "       [6, 7, 2, 3, 4, 2]])"
      ]
     },
     "execution_count": 27,
     "metadata": {},
     "output_type": "execute_result"
    }
   ],
   "source": [
    "arr + 1"
   ]
  },
  {
   "cell_type": "code",
   "execution_count": 28,
   "id": "530ee2b1-bfc7-40e9-b62c-5a81617e9dfe",
   "metadata": {},
   "outputs": [
    {
     "data": {
      "text/plain": [
       "array([[1, 2, 3, 2, 1, 4],\n",
       "       [5, 6, 1, 2, 3, 1]])"
      ]
     },
     "execution_count": 28,
     "metadata": {},
     "output_type": "execute_result"
    }
   ],
   "source": [
    "arr"
   ]
  },
  {
   "cell_type": "code",
   "execution_count": 29,
   "id": "58338bca-981f-445b-84fd-7c0320602bff",
   "metadata": {},
   "outputs": [
    {
     "data": {
      "text/plain": [
       "array([[0.5, 1. , 1.5, 1. , 0.5, 2. ],\n",
       "       [2.5, 3. , 0.5, 1. , 1.5, 0.5]])"
      ]
     },
     "execution_count": 29,
     "metadata": {},
     "output_type": "execute_result"
    }
   ],
   "source": [
    "arr / 2"
   ]
  },
  {
   "cell_type": "code",
   "execution_count": 30,
   "id": "f4830675-4598-40e4-a5c6-801e7924ec50",
   "metadata": {},
   "outputs": [],
   "source": [
    "arr2 = np.array([[1, 2, 3, 4], [3, 4, 5, 6]])"
   ]
  },
  {
   "cell_type": "code",
   "execution_count": 31,
   "id": "2dbb5a33-226b-44a9-9038-f0850d24e0d6",
   "metadata": {},
   "outputs": [],
   "source": [
    "# arr1 + arr2 不可以运算"
   ]
  },
  {
   "cell_type": "code",
   "execution_count": 32,
   "id": "5f9edb3d-f4f9-4862-873f-56c8cfb59b5c",
   "metadata": {},
   "outputs": [],
   "source": [
    "arr1 = np.array([[1, 2, 3, 2, 1, 4], [5, 6, 1, 2, 3, 1]])\n",
    "arr2 = np.array([[1], [3]])"
   ]
  },
  {
   "cell_type": "code",
   "execution_count": 33,
   "id": "06c0bb9e-4ba8-4e6e-9d36-e1fc59768d10",
   "metadata": {},
   "outputs": [
    {
     "data": {
      "text/plain": [
       "array([[1, 2, 3, 2, 1, 4],\n",
       "       [5, 6, 1, 2, 3, 1]])"
      ]
     },
     "execution_count": 33,
     "metadata": {},
     "output_type": "execute_result"
    }
   ],
   "source": [
    "arr1"
   ]
  },
  {
   "cell_type": "code",
   "execution_count": 34,
   "id": "22e4c383-1b85-4a0e-a51d-09e8b962e75a",
   "metadata": {},
   "outputs": [
    {
     "data": {
      "text/plain": [
       "array([[1],\n",
       "       [3]])"
      ]
     },
     "execution_count": 34,
     "metadata": {},
     "output_type": "execute_result"
    }
   ],
   "source": [
    "arr2"
   ]
  },
  {
   "cell_type": "code",
   "execution_count": 37,
   "id": "daffa2ee-ff78-4266-933d-aac5be415b3d",
   "metadata": {},
   "outputs": [
    {
     "data": {
      "text/plain": [
       "array([[2, 3, 4, 3, 2, 5],\n",
       "       [8, 9, 4, 5, 6, 4]])"
      ]
     },
     "execution_count": 37,
     "metadata": {},
     "output_type": "execute_result"
    }
   ],
   "source": [
    "arr1 + arr2  # 利用广播机制"
   ]
  },
  {
   "cell_type": "code",
   "execution_count": 38,
   "id": "956ba528-e190-4022-9942-d8ea1a335f6e",
   "metadata": {},
   "outputs": [],
   "source": [
    "a = np.array([[80, 86],\n",
    "[82, 80],\n",
    "[85, 78],\n",
    "[90, 90],\n",
    "[86, 82],\n",
    "[82, 90],\n",
    "[78, 80],\n",
    "[92, 94]])"
   ]
  },
  {
   "cell_type": "code",
   "execution_count": 39,
   "id": "7971e2b1-b6d6-4d9e-8353-5f065f92e149",
   "metadata": {},
   "outputs": [],
   "source": [
    "b = np.array([[0.7], [0.3]])"
   ]
  },
  {
   "cell_type": "code",
   "execution_count": 40,
   "id": "8b86b241-d124-4f43-87ce-a134f6d9fad3",
   "metadata": {},
   "outputs": [
    {
     "data": {
      "text/plain": [
       "array([[800, 860],\n",
       "       [820, 800],\n",
       "       [850, 780],\n",
       "       [900, 900],\n",
       "       [860, 820],\n",
       "       [820, 900],\n",
       "       [780, 800],\n",
       "       [920, 940]])"
      ]
     },
     "execution_count": 40,
     "metadata": {},
     "output_type": "execute_result"
    }
   ],
   "source": [
    "np.dot(a, 10)"
   ]
  },
  {
   "cell_type": "code",
   "execution_count": 41,
   "id": "1d5a69b1-4dee-4347-893c-68b32040b556",
   "metadata": {},
   "outputs": [
    {
     "data": {
      "text/plain": [
       "array([[81.8],\n",
       "       [81.4],\n",
       "       [82.9],\n",
       "       [90. ],\n",
       "       [84.8],\n",
       "       [84.4],\n",
       "       [78.6],\n",
       "       [92.6]])"
      ]
     },
     "execution_count": 41,
     "metadata": {},
     "output_type": "execute_result"
    }
   ],
   "source": [
    "np.matmul(a, b)"
   ]
  },
  {
   "cell_type": "code",
   "execution_count": 42,
   "id": "0814b4d3-1ebd-4548-a342-c9a1376142dc",
   "metadata": {},
   "outputs": [
    {
     "data": {
      "text/plain": [
       "array([[81.8],\n",
       "       [81.4],\n",
       "       [82.9],\n",
       "       [90. ],\n",
       "       [84.8],\n",
       "       [84.4],\n",
       "       [78.6],\n",
       "       [92.6]])"
      ]
     },
     "execution_count": 42,
     "metadata": {},
     "output_type": "execute_result"
    }
   ],
   "source": [
    "np.dot(a,b)"
   ]
  },
  {
   "cell_type": "code",
   "execution_count": 43,
   "id": "f161aee2-e890-4a5c-b280-e76f7139b40c",
   "metadata": {},
   "outputs": [
    {
     "ename": "ValueError",
     "evalue": "matmul: Input operand 1 does not have enough dimensions (has 0, gufunc core with signature (n?,k),(k,m?)->(n?,m?) requires 1)",
     "output_type": "error",
     "traceback": [
      "\u001b[1;31m---------------------------------------------------------------------------\u001b[0m",
      "\u001b[1;31mValueError\u001b[0m                                Traceback (most recent call last)",
      "Cell \u001b[1;32mIn[43], line 1\u001b[0m\n\u001b[1;32m----> 1\u001b[0m \u001b[43mnp\u001b[49m\u001b[38;5;241;43m.\u001b[39;49m\u001b[43mmatmul\u001b[49m\u001b[43m(\u001b[49m\u001b[43ma\u001b[49m\u001b[43m,\u001b[49m\u001b[43m \u001b[49m\u001b[38;5;241;43m10\u001b[39;49m\u001b[43m)\u001b[49m\n",
      "\u001b[1;31mValueError\u001b[0m: matmul: Input operand 1 does not have enough dimensions (has 0, gufunc core with signature (n?,k),(k,m?)->(n?,m?) requires 1)"
     ]
    }
   ],
   "source": [
    "np.matmul(a, 10)"
   ]
  },
  {
   "cell_type": "markdown",
   "id": "ce7f335c-891a-4cbd-bbe4-6741e5b41bb9",
   "metadata": {},
   "source": [
    "#### np.matmul和np.dot的区别:\n",
    "* 二者都是矩阵乘法。 \n",
    "* np.matmul中禁止矩阵与标量的乘法，但是 dot 允许。\n",
    "* 在矢量乘矢量的內积运算中，np.matmul与np.dot没有区别。"
   ]
  },
  {
   "cell_type": "code",
   "execution_count": null,
   "id": "a82ddbbe-95c3-4f8d-8fe1-6956138f3f01",
   "metadata": {},
   "outputs": [],
   "source": []
  }
 ],
 "metadata": {
  "kernelspec": {
   "display_name": "Python 3 (ipykernel)",
   "language": "python",
   "name": "python3"
  },
  "language_info": {
   "codemirror_mode": {
    "name": "ipython",
    "version": 3
   },
   "file_extension": ".py",
   "mimetype": "text/x-python",
   "name": "python",
   "nbconvert_exporter": "python",
   "pygments_lexer": "ipython3",
   "version": "3.10.12"
  }
 },
 "nbformat": 4,
 "nbformat_minor": 5
}
