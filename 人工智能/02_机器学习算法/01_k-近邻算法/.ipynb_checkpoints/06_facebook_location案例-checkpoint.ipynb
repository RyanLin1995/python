{
 "cells": [
  {
   "cell_type": "code",
   "execution_count": 1,
   "id": "d7744f68-739a-489b-b740-cc1cce4b6237",
   "metadata": {},
   "outputs": [
    {
     "name": "stderr",
     "output_type": "stream",
     "text": [
      "Intel(R) Extension for Scikit-learn* enabled (https://github.com/intel/scikit-learn-intelex)\n"
     ]
    }
   ],
   "source": [
    "import pandas as pd\n",
    "from sklearn.model_selection import train_test_split, GridSearchCV\n",
    "from sklearn.neighbors import KNeighborsClassifier\n",
    "from sklearn.preprocessing import StandardScaler\n",
    "from sklearnex import patch_sklearn\n",
    "patch_sklearn()"
   ]
  },
  {
   "cell_type": "code",
   "execution_count": 2,
   "id": "6a230526-ce0a-45a1-b3b8-de15e995c0f9",
   "metadata": {},
   "outputs": [],
   "source": [
    "# row_id：登记事件的ID\n",
    "# xy：坐标\n",
    "# 准确性：定位准确性 \n",
    "# 时间：时间戳\n",
    "# place_id：业务的ID，这是您预测的目标，即目标值"
   ]
  },
  {
   "cell_type": "code",
   "execution_count": null,
   "id": "e5d21659-e4d7-46d9-9fb8-358739117286",
   "metadata": {},
   "outputs": [],
   "source": [
    "# 1. 获取数据集\n",
    "data = pd.read_csv('train.csv')"
   ]
  },
  {
   "cell_type": "code",
   "execution_count": null,
   "id": "bde1e44e-7dd2-4049-badc-175f50be0a5e",
   "metadata": {},
   "outputs": [],
   "source": [
    "data"
   ]
  },
  {
   "cell_type": "code",
   "execution_count": null,
   "id": "a8b739d3-5428-4ff8-96e5-2c39ef4373d6",
   "metadata": {},
   "outputs": [],
   "source": [
    "# 2. 基本数据处理\n",
    "# 2.1 选择时间特征\n",
    "time = pd.to_datetime(data['time'], unit='s')\n",
    "time = pd.DatetimeIndex(time)\n",
    "data['day'] = time.day\n",
    "data['hour'] = time.hour\n",
    "data['weekday'] = time.weekday\n",
    "\n",
    "# 2.2 去掉签到较少的地方\n",
    "place_count = data.groupby('place_id').count()\n",
    "place_count = place_count[place_count['row_id']>5]\n",
    "data = data[data['place_id'].isin(place_count.index)]\n",
    "\n",
    "# 2.3 确定特征值和目标值\n",
    "x = data[['x','y','accuracy','day','hour','weekday']]\n",
    "y = data['place_id']\n",
    "\n",
    "# 2.4 分割数据\n",
    "x_train, x_test, y_train, y_test = train_test_split(x, y, random_state=22,test_size=0.33)"
   ]
  },
  {
   "cell_type": "code",
   "execution_count": null,
   "id": "f0c346d2-dcc6-44f8-a227-949bac46e487",
   "metadata": {},
   "outputs": [],
   "source": [
    "# 3 特征工程--特征预处理(标准化)\n",
    "# 3.1 实例化一个转换器\n",
    "transfer = StandardScaler()\n",
    "# 3.2 调用 fit_transform\n",
    "x_train = transfer.fit_transform(x_train)\n",
    "x_test = transfer.fit_transform(x_test)"
   ]
  },
  {
   "cell_type": "code",
   "execution_count": null,
   "id": "88e423bb-44f7-43c9-936c-04ffa6456fcb",
   "metadata": {},
   "outputs": [],
   "source": [
    "# 4 机器学习--knn+cv\n",
    "# 4.1 实例化一个估计器\n",
    "estimator = KNeighborsClassifier(n_jobs=-1)\n",
    "# 4.2 调用 GridSearchCV()\n",
    "param_grid = {'n_neighbors':[1,3,5,7,9]}\n",
    "estimator = GridSearchCV(estimator, param_grid, cv=5)\n",
    "# 4.3 模型训练\n",
    "estimator.fit(x_train, y_train)"
   ]
  },
  {
   "cell_type": "code",
   "execution_count": null,
   "id": "43cdc712-f811-4a6f-bf29-4339105021b3",
   "metadata": {},
   "outputs": [],
   "source": [
    "# 5.模型评估\n",
    "# 5.1 基本评估方式\n",
    "score = estimator.score(x_test, y_test)\n",
    "print(\"最后预测的准确率为:\\n\", score)"
   ]
  },
  {
   "cell_type": "code",
   "execution_count": null,
   "id": "267f2448-76ae-41aa-b1e1-f5bce55a8a1f",
   "metadata": {},
   "outputs": [],
   "source": [
    "y_predict = estimator.predict(x_test)\n",
    "print(\"最后的预测值为:\\n\", y_predict)\n",
    "print(\"预测值和真实值的对比情况:\\n\", y_predict == y_test"
   ]
  },
  {
   "cell_type": "code",
   "execution_count": null,
   "id": "76b05823-c5db-4013-800b-e6faf14bfa1a",
   "metadata": {},
   "outputs": [],
   "source": [
    "# 5.2 使用交叉验证后的评估方式\n",
    "print(\"在交叉验证中验证的最好结果:\\n\", estimator.best_score_)\n",
    "print(\"最好的参数模型:\\n\", estimator.best_estimator_)\n",
    "print(\"每次交叉验证后的验证集准确率结果和训练集准确率结果:\\n\",estimator.cv_results_)"
   ]
  }
 ],
 "metadata": {
  "kernelspec": {
   "display_name": "Python 3 (ipykernel)",
   "language": "python",
   "name": "python3"
  },
  "language_info": {
   "codemirror_mode": {
    "name": "ipython",
    "version": 3
   },
   "file_extension": ".py",
   "mimetype": "text/x-python",
   "name": "python",
   "nbconvert_exporter": "python",
   "pygments_lexer": "ipython3",
   "version": "3.10.12"
  }
 },
 "nbformat": 4,
 "nbformat_minor": 5
}
