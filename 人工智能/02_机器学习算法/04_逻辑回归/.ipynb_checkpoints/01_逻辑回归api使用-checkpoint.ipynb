{
 "cells": [
  {
   "cell_type": "code",
   "execution_count": 7,
   "id": "3bcb676a-161c-4ffa-8a33-2743b38fc01d",
   "metadata": {},
   "outputs": [],
   "source": [
    "import pandas as pd\n",
    "import numpy as np\n",
    "from sklearn.preprocessing import StandardScaler\n",
    "from sklearn.model_selection import train_test_split\n",
    "from sklearn.linear_model import LogisticRegression  # 逻辑回归API\n",
    "from sklearnex import patch_sklearn"
   ]
  },
  {
   "cell_type": "code",
   "execution_count": 8,
   "id": "2807e4d2-ed99-47e7-93af-ce7a1b8ad7d9",
   "metadata": {},
   "outputs": [
    {
     "name": "stderr",
     "output_type": "stream",
     "text": [
      "Intel(R) Extension for Scikit-learn* enabled (https://github.com/intel/scikit-learn-intelex)\n"
     ]
    }
   ],
   "source": [
    "patch_sklearn()"
   ]
  },
  {
   "cell_type": "code",
   "execution_count": 9,
   "id": "6ad819fc-c85c-447e-a0bc-3a0333071657",
   "metadata": {},
   "outputs": [],
   "source": [
    "# 1.获取数据\n",
    "names = ['Sample code number', 'Clump Thickness', 'Uniformity of Cell Size', 'Uniformity of Cell Shape',\n",
    "                   'Marginal Adhesion', 'Single Epithelial Cell Size', 'Bare Nuclei', 'Bland Chromatin',\n",
    "                   'Normal Nucleoli', 'Mitoses', 'Class']\n",
    "data = pd.read_csv('data/breast-cancer-wisconsin.data', names=names)"
   ]
  },
  {
   "cell_type": "code",
   "execution_count": 4,
   "id": "4b0a8183-4a03-4821-a99b-a0cc73ab0660",
   "metadata": {},
   "outputs": [],
   "source": [
    "# 2.基本数据处理\n",
    "# 2.1 缺失值处理\n",
    "data = data.replace('?', np.NaN)\n",
    "data = data.dropna()\n",
    "# 2.2 确定特征值,目标值\n",
    "x = data.iloc[:, 1:-1]\n",
    "y = data['Class']\n",
    "# 2.3 分割数据\n",
    "x_train, x_test, y_train, y_test = train_test_split(x, y, random_state=22, test_size=0.2)"
   ]
  },
  {
   "cell_type": "code",
   "execution_count": 5,
   "id": "a4e0d54d-ca49-4ad7-9369-7f5f4e51be79",
   "metadata": {
    "scrolled": true
   },
   "outputs": [
    {
     "data": {
      "text/plain": [
       "0      2\n",
       "1      2\n",
       "2      2\n",
       "3      2\n",
       "4      2\n",
       "      ..\n",
       "694    2\n",
       "695    2\n",
       "696    4\n",
       "697    4\n",
       "698    4\n",
       "Name: Class, Length: 683, dtype: int64"
      ]
     },
     "execution_count": 5,
     "metadata": {},
     "output_type": "execute_result"
    }
   ],
   "source": [
    "y"
   ]
  },
  {
   "cell_type": "code",
   "execution_count": null,
   "id": "617ff35e-b39a-4de1-9777-f9d4be51f63e",
   "metadata": {
    "scrolled": true
   },
   "outputs": [],
   "source": []
  },
  {
   "cell_type": "code",
   "execution_count": 6,
   "id": "8ab02e7c-3336-4b4f-8030-224f7961c056",
   "metadata": {},
   "outputs": [
    {
     "ename": "SyntaxError",
     "evalue": "invalid decimal literal (2716321274.py, line 1)",
     "output_type": "error",
     "traceback": [
      "\u001b[1;36m  Cell \u001b[1;32mIn[6], line 1\u001b[1;36m\u001b[0m\n\u001b[1;33m    1.获取数据\u001b[0m\n\u001b[1;37m     ^\u001b[0m\n\u001b[1;31mSyntaxError\u001b[0m\u001b[1;31m:\u001b[0m invalid decimal literal\n"
     ]
    }
   ],
   "source": [
    "1.获取数据\n",
    "2.基本数据处理\n",
    "2.1 缺失值处理\n",
    "2.2 确定特征值,目标值\n",
    "2.3 分割数据\n",
    "3.特征工程(标准化)\n",
    "4.机器学习(逻辑回归)\n",
    "5.模型评估"
   ]
  }
 ],
 "metadata": {
  "kernelspec": {
   "display_name": "Python 3 (ipykernel)",
   "language": "python",
   "name": "python3"
  },
  "language_info": {
   "codemirror_mode": {
    "name": "ipython",
    "version": 3
   },
   "file_extension": ".py",
   "mimetype": "text/x-python",
   "name": "python",
   "nbconvert_exporter": "python",
   "pygments_lexer": "ipython3",
   "version": "3.10.12"
  }
 },
 "nbformat": 4,
 "nbformat_minor": 5
}
