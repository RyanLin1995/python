{
 "cells": [
  {
   "cell_type": "code",
   "execution_count": 2,
   "id": "initial_id",
   "metadata": {
    "collapsed": true,
    "ExecuteTime": {
     "end_time": "2023-11-06T14:20:42.817847200Z",
     "start_time": "2023-11-06T14:20:38.778161Z"
    }
   },
   "outputs": [
    {
     "name": "stderr",
     "output_type": "stream",
     "text": [
      "Intel(R) Extension for Scikit-learn* enabled (https://github.com/intel/scikit-learn-intelex)\n"
     ]
    }
   ],
   "source": [
    "import pandas as pd\n",
    "from sklearn.decomposition import PCA\n",
    "from sklearn.cluster import KMeans\n",
    "from sklearn.metrics import silhouette_score\n",
    "from sklearnex import patch_sklearn\n",
    "\n",
    "patch_sklearn()"
   ]
  },
  {
   "cell_type": "code",
   "execution_count": 4,
   "outputs": [],
   "source": [
    "# 1.获取数据\n",
    "order_product = pd.read_csv(\"data/order_products__prior.csv\")\n",
    "products = pd.read_csv(\"data/products.csv\")\n",
    "orders = pd.read_csv(\"data/orders.csv\")\n",
    "aisles = pd.read_csv(\"data/aisles.csv\")"
   ],
   "metadata": {
    "collapsed": false,
    "ExecuteTime": {
     "end_time": "2023-11-06T14:22:05.860365600Z",
     "start_time": "2023-11-06T14:22:00.344635100Z"
    }
   },
   "id": "5b5afd93f351206a"
  },
  {
   "cell_type": "code",
   "execution_count": 5,
   "outputs": [],
   "source": [
    "# 2.数据基本处理\n",
    "# 2.1 合并表格\n",
    "data = pd.merge(order_product, products, on=['product_id', 'product_id'])\n",
    "data = pd.merge(data, orders, on=['order_id', 'order_id'])\n",
    "data = pd.merge(data, aisles, on=['aisle_id', 'aisle_id'])\n",
    "# 2.2 交叉表合并\n",
    "data = pd.crosstab(data['user_id'], data['aisle'])"
   ],
   "metadata": {
    "collapsed": false,
    "ExecuteTime": {
     "end_time": "2023-11-06T14:26:48.793695400Z",
     "start_time": "2023-11-06T14:25:31.175820600Z"
    }
   },
   "id": "599befc484b28b4b"
  },
  {
   "cell_type": "code",
   "execution_count": 12,
   "outputs": [],
   "source": [
    "data = data[:1000]"
   ],
   "metadata": {
    "collapsed": false,
    "ExecuteTime": {
     "end_time": "2023-11-06T15:09:49.803991100Z",
     "start_time": "2023-11-06T15:09:49.787990300Z"
    }
   },
   "id": "47b30ee2ae376f51"
  },
  {
   "cell_type": "code",
   "execution_count": 13,
   "outputs": [],
   "source": [
    "# 3.特征工程 — pca\n",
    "transfer = PCA(n_components=0.9)  # 保留 90 % 的数据\n",
    "data = transfer.fit_transform(data)"
   ],
   "metadata": {
    "collapsed": false,
    "ExecuteTime": {
     "end_time": "2023-11-06T15:09:50.398079100Z",
     "start_time": "2023-11-06T15:09:50.381079600Z"
    }
   },
   "id": "e1ac9fce0d212b54"
  },
  {
   "cell_type": "code",
   "execution_count": 14,
   "outputs": [
    {
     "name": "stderr",
     "output_type": "stream",
     "text": [
      "C:\\Users\\Ryan\\mambaforge\\envs\\py310\\lib\\site-packages\\sklearn\\cluster\\_kmeans.py:1416: FutureWarning: The default value of `n_init` will change from 10 to 'auto' in 1.4. Set the value of `n_init` explicitly to suppress the warning\n",
      "  super()._check_params_vs_input(X, default_n_init=10)\n",
      "C:\\Users\\Ryan\\mambaforge\\envs\\py310\\lib\\site-packages\\sklearn\\cluster\\_kmeans.py:1440: UserWarning: KMeans is known to have a memory leak on Windows with MKL, when there are less chunks than available threads. You can avoid it by setting the environment variable OMP_NUM_THREADS=4.\n",
      "  warnings.warn(\n"
     ]
    }
   ],
   "source": [
    "# 4.机器学习（k-means）\n",
    "estimator = KMeans(n_clusters=8, random_state=22)\n",
    "y_pre = estimator.fit_predict(data)"
   ],
   "metadata": {
    "collapsed": false,
    "ExecuteTime": {
     "end_time": "2023-11-06T15:09:50.913880800Z",
     "start_time": "2023-11-06T15:09:50.862382500Z"
    }
   },
   "id": "c2249bd23ef0ebb7"
  },
  {
   "cell_type": "code",
   "execution_count": 15,
   "outputs": [
    {
     "data": {
      "text/plain": "0.37757391116151395"
     },
     "execution_count": 15,
     "metadata": {},
     "output_type": "execute_result"
    }
   ],
   "source": [
    "# 5.模型评估\n",
    "silhouette_score(data, y_pre)"
   ],
   "metadata": {
    "collapsed": false,
    "ExecuteTime": {
     "end_time": "2023-11-06T15:09:52.291444100Z",
     "start_time": "2023-11-06T15:09:52.242906100Z"
    }
   },
   "id": "3f12aa787e5f91a4"
  },
  {
   "cell_type": "code",
   "execution_count": null,
   "outputs": [],
   "source": [],
   "metadata": {
    "collapsed": false
   },
   "id": "796bc632b6355bb4"
  }
 ],
 "metadata": {
  "kernelspec": {
   "display_name": "Python 3",
   "language": "python",
   "name": "python3"
  },
  "language_info": {
   "codemirror_mode": {
    "name": "ipython",
    "version": 2
   },
   "file_extension": ".py",
   "mimetype": "text/x-python",
   "name": "python",
   "nbconvert_exporter": "python",
   "pygments_lexer": "ipython2",
   "version": "2.7.6"
  }
 },
 "nbformat": 4,
 "nbformat_minor": 5
}
