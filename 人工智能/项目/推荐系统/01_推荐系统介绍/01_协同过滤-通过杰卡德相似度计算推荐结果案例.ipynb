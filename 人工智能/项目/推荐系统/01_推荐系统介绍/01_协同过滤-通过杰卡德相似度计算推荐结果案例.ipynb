{
 "cells": [
  {
   "cell_type": "code",
   "execution_count": 27,
   "id": "initial_id",
   "metadata": {
    "collapsed": true,
    "ExecuteTime": {
     "end_time": "2023-11-14T14:57:53.220761900Z",
     "start_time": "2023-11-14T14:57:53.180251700Z"
    }
   },
   "outputs": [],
   "source": [
    "import numpy as np\n",
    "import pandas as pd\n"
   ]
  },
  {
   "cell_type": "code",
   "execution_count": 24,
   "outputs": [
    {
     "data": {
      "text/plain": "       Item A  Item B  Item C  Item D  Item E\nUser1       1       0       1       1       0\nUser2       1       0       0       1       1\nUser3       1       0       1       0       0\nUser4       0       1       0       1       1\nUser5       1       1       1       0       1",
      "text/html": "<div>\n<style scoped>\n    .dataframe tbody tr th:only-of-type {\n        vertical-align: middle;\n    }\n\n    .dataframe tbody tr th {\n        vertical-align: top;\n    }\n\n    .dataframe thead th {\n        text-align: right;\n    }\n</style>\n<table border=\"1\" class=\"dataframe\">\n  <thead>\n    <tr style=\"text-align: right;\">\n      <th></th>\n      <th>Item A</th>\n      <th>Item B</th>\n      <th>Item C</th>\n      <th>Item D</th>\n      <th>Item E</th>\n    </tr>\n  </thead>\n  <tbody>\n    <tr>\n      <th>User1</th>\n      <td>1</td>\n      <td>0</td>\n      <td>1</td>\n      <td>1</td>\n      <td>0</td>\n    </tr>\n    <tr>\n      <th>User2</th>\n      <td>1</td>\n      <td>0</td>\n      <td>0</td>\n      <td>1</td>\n      <td>1</td>\n    </tr>\n    <tr>\n      <th>User3</th>\n      <td>1</td>\n      <td>0</td>\n      <td>1</td>\n      <td>0</td>\n      <td>0</td>\n    </tr>\n    <tr>\n      <th>User4</th>\n      <td>0</td>\n      <td>1</td>\n      <td>0</td>\n      <td>1</td>\n      <td>1</td>\n    </tr>\n    <tr>\n      <th>User5</th>\n      <td>1</td>\n      <td>1</td>\n      <td>1</td>\n      <td>0</td>\n      <td>1</td>\n    </tr>\n  </tbody>\n</table>\n</div>"
     },
     "execution_count": 24,
     "metadata": {},
     "output_type": "execute_result"
    }
   ],
   "source": [
    "users = [\"User1\", \"User2\", \"User3\", \"User4\", \"User5\"]\n",
    "items = [\"Item A\", \"Item B\", \"Item C\", \"Item D\", \"Item E\"]\n",
    "\n",
    "datasets = [\n",
    "    [1, 0, 1, 1, 0],\n",
    "    [1, 0, 0, 1, 1],\n",
    "    [1, 0, 1, 0, 0],\n",
    "    [0, 1, 0, 1, 1],\n",
    "    [1, 1, 1, 0, 1],\n",
    "]\n",
    "\n",
    "df = pd.DataFrame(datasets, columns=items, index=users)\n",
    "df"
   ],
   "metadata": {
    "collapsed": false,
    "ExecuteTime": {
     "end_time": "2023-11-14T14:56:34.260847100Z",
     "start_time": "2023-11-14T14:56:34.252846900Z"
    }
   },
   "id": "5e695a7cd447f803"
  },
  {
   "cell_type": "code",
   "execution_count": 3,
   "outputs": [
    {
     "name": "stderr",
     "output_type": "stream",
     "text": [
      "Intel(R) Extension for Scikit-learn* enabled (https://github.com/intel/scikit-learn-intelex)\n"
     ]
    }
   ],
   "source": [
    "from sklearnex import patch_sklearn\n",
    "from sklearn.metrics import jaccard_score  # 直接计算某两项的杰卡德相似系数\n",
    "\n",
    "patch_sklearn()"
   ],
   "metadata": {
    "collapsed": false,
    "ExecuteTime": {
     "end_time": "2023-11-14T14:29:09.686876800Z",
     "start_time": "2023-11-14T14:29:06.861757100Z"
    }
   },
   "id": "9b5f2fd5efeee86"
  },
  {
   "cell_type": "code",
   "execution_count": 4,
   "outputs": [
    {
     "data": {
      "text/plain": "0.2"
     },
     "execution_count": 4,
     "metadata": {},
     "output_type": "execute_result"
    }
   ],
   "source": [
    "# 计算 Item A 和 Item B 的杰卡德相似度\n",
    "jaccard_score(df[\"Item A\"], df[\"Item B\"])"
   ],
   "metadata": {
    "collapsed": false,
    "ExecuteTime": {
     "end_time": "2023-11-14T14:30:12.277718300Z",
     "start_time": "2023-11-14T14:30:12.261719500Z"
    }
   },
   "id": "4beba59f7f328e31"
  },
  {
   "cell_type": "code",
   "execution_count": 7,
   "outputs": [
    {
     "name": "stdout",
     "output_type": "stream",
     "text": [
      "用户之间的两两相似度：\n",
      "          User1  User2     User3  User4  User5\n",
      "User1  1.000000   0.50  0.666667    0.2    0.4\n",
      "User2  0.500000   1.00  0.250000    0.5    0.4\n",
      "User3  0.666667   0.25  1.000000    0.0    0.5\n",
      "User4  0.200000   0.50  0.000000    1.0    0.4\n",
      "User5  0.400000   0.40  0.500000    0.4    1.0\n"
     ]
    },
    {
     "name": "stderr",
     "output_type": "stream",
     "text": [
      "C:\\Users\\Ryan\\mambaforge\\envs\\py310\\lib\\site-packages\\daal4py\\sklearn\\utils\\validation.py:264: FutureWarning: is_sparse is deprecated and will be removed in a future version. Check `isinstance(dtype, pd.SparseDtype)` instead.\n",
      "  array.dtypes.apply(is_sparse).any():\n",
      "C:\\Users\\Ryan\\mambaforge\\envs\\py310\\lib\\site-packages\\daal4py\\sklearn\\metrics\\_pairwise.py:207: DataConversionWarning: Data was converted to boolean for metric jaccard\n",
      "  warnings.warn(msg, DataConversionWarning)\n"
     ]
    }
   ],
   "source": [
    "from sklearn.metrics import pairwise_distances  # 计算所有数据的两两杰卡德相似系数\n",
    "\n",
    "# 计算用户间相似度\n",
    "user_similar = 1 - pairwise_distances(df, metric=\"jaccard\")  # 杰卡德相似等于 1 - 杰卡德距离\n",
    "user_similar = pd.DataFrame(user_similar, columns=users, index=users)\n",
    "print(\"用户之间的两两相似度：\")\n",
    "print(user_similar)"
   ],
   "metadata": {
    "collapsed": false,
    "ExecuteTime": {
     "end_time": "2023-11-14T14:34:09.739806100Z",
     "start_time": "2023-11-14T14:34:09.701723100Z"
    }
   },
   "id": "d8749b597e4ff021"
  },
  {
   "cell_type": "code",
   "execution_count": 8,
   "outputs": [
    {
     "name": "stdout",
     "output_type": "stream",
     "text": [
      "物品之间的两两相似度：\n",
      "        Item A    Item B  Item C  Item D    Item E\n",
      "Item A    1.00  0.200000    0.75    0.40  0.400000\n",
      "Item B    0.20  1.000000    0.25    0.25  0.666667\n",
      "Item C    0.75  0.250000    1.00    0.20  0.200000\n",
      "Item D    0.40  0.250000    0.20    1.00  0.500000\n",
      "Item E    0.40  0.666667    0.20    0.50  1.000000\n"
     ]
    },
    {
     "name": "stderr",
     "output_type": "stream",
     "text": [
      "C:\\Users\\Ryan\\mambaforge\\envs\\py310\\lib\\site-packages\\daal4py\\sklearn\\utils\\validation.py:264: FutureWarning: is_sparse is deprecated and will be removed in a future version. Check `isinstance(dtype, pd.SparseDtype)` instead.\n",
      "  array.dtypes.apply(is_sparse).any():\n",
      "C:\\Users\\Ryan\\mambaforge\\envs\\py310\\lib\\site-packages\\daal4py\\sklearn\\metrics\\_pairwise.py:207: DataConversionWarning: Data was converted to boolean for metric jaccard\n",
      "  warnings.warn(msg, DataConversionWarning)\n"
     ]
    }
   ],
   "source": [
    "# 计算物品间相似度\n",
    "item_similar = 1 - pairwise_distances(df.T, metric=\"jaccard\")\n",
    "item_similar = pd.DataFrame(item_similar, columns=items, index=items)\n",
    "print(\"物品之间的两两相似度：\")\n",
    "print(item_similar)"
   ],
   "metadata": {
    "collapsed": false,
    "ExecuteTime": {
     "end_time": "2023-11-14T14:34:41.789803100Z",
     "start_time": "2023-11-14T14:34:41.748325200Z"
    }
   },
   "id": "93d5ddc885a0caf7"
  },
  {
   "cell_type": "code",
   "execution_count": 44,
   "outputs": [
    {
     "name": "stdout",
     "output_type": "stream",
     "text": [
      "Top2相似用户：\n",
      "{'User1': ['User3', 'User2'], 'User2': ['User1', 'User4'], 'User3': ['User1', 'User5'], 'User4': ['User2', 'User5'], 'User5': ['User3', 'User1']}\n"
     ]
    }
   ],
   "source": [
    "# 开始进行过滤\n",
    "# 为每一个用户找到最相似的2个用户\n",
    "topN_users = {}\n",
    "for i in user_similar.index:\n",
    "    # 取出每一列数据，并删除自身，然后排序数据\n",
    "    _df: pd.DataFrame = user_similar.loc[i].drop([i])\n",
    "    _df_stored = _df.sort_values(ascending=False)\n",
    "\n",
    "    top2 = list(_df_stored.index[:2])\n",
    "    topN_users[i] = top2\n",
    "\n",
    "print(\"Top2相似用户：\")\n",
    "print(topN_users)"
   ],
   "metadata": {
    "collapsed": false,
    "ExecuteTime": {
     "end_time": "2023-11-14T15:14:58.048079700Z",
     "start_time": "2023-11-14T15:14:58.029671800Z"
    }
   },
   "id": "113e5efe8d587ebc"
  },
  {
   "cell_type": "code",
   "execution_count": 29,
   "outputs": [
    {
     "name": "stdout",
     "output_type": "stream",
     "text": [
      "最终推荐结果：\n",
      "{'User1': {'Item E'}, 'User2': {'Item B', 'Item C'}, 'User3': {'Item B', 'Item E', 'Item D'}, 'User4': {'Item A', 'Item C'}, 'User5': {'Item D'}}\n"
     ]
    }
   ],
   "source": [
    "# 根据 topN 的相似用户构建推荐结果\n",
    "rs_results = {}\n",
    "for user, sim_users in topN_users.items():\n",
    "    rs_result = set()  # 存储推荐结果\n",
    "    for sim_user in sim_users:\n",
    "        # 构建初始的推荐结果\n",
    "        rs_result = rs_result.union(set(df.loc[sim_user].replace(0, np.nan).dropna().index))\n",
    "    # 过滤掉已经购买过的物品\n",
    "    rs_result -= set(df.loc[user].replace(0, np.nan).dropna().index)\n",
    "    rs_results[user] = rs_result\n",
    "print(\"最终推荐结果：\")\n",
    "print(rs_results)"
   ],
   "metadata": {
    "collapsed": false,
    "ExecuteTime": {
     "end_time": "2023-11-14T14:59:54.559571100Z",
     "start_time": "2023-11-14T14:59:54.541063900Z"
    }
   },
   "id": "6cb4219cb48155fb"
  },
  {
   "cell_type": "code",
   "execution_count": 46,
   "outputs": [
    {
     "name": "stdout",
     "output_type": "stream",
     "text": [
      "Item B    0.20\n",
      "Item C    0.75\n",
      "Item D    0.40\n",
      "Item E    0.40\n",
      "Name: Item A, dtype: float64\n",
      "Item A    0.200000\n",
      "Item C    0.250000\n",
      "Item D    0.250000\n",
      "Item E    0.666667\n",
      "Name: Item B, dtype: float64\n",
      "Item A    0.75\n",
      "Item B    0.25\n",
      "Item D    0.20\n",
      "Item E    0.20\n",
      "Name: Item C, dtype: float64\n",
      "Item A    0.40\n",
      "Item B    0.25\n",
      "Item C    0.20\n",
      "Item E    0.50\n",
      "Name: Item D, dtype: float64\n",
      "Item A    0.400000\n",
      "Item B    0.666667\n",
      "Item C    0.200000\n",
      "Item D    0.500000\n",
      "Name: Item E, dtype: float64\n",
      "Top2相似物品：\n",
      "{'Item A': ['Item C', 'Item D'], 'Item B': ['Item E', 'Item C'], 'Item C': ['Item A', 'Item B'], 'Item D': ['Item E', 'Item A'], 'Item E': ['Item B', 'Item D']}\n"
     ]
    }
   ],
   "source": [
    "# 为每一个用户找到最相似的2个物品\n",
    "topN_items = {}\n",
    "# 遍历每一行数据\n",
    "for i in item_similar.index:\n",
    "    # 取出每一列数据，并删除自身，然后排序数据\n",
    "    _df = item_similar.loc[i].drop([i])\n",
    "    print(_df)\n",
    "    _df_stored = _df.sort_values(ascending=False)\n",
    "\n",
    "    top2 = list(_df_stored.index[:2])\n",
    "    topN_items[i] = top2\n",
    "\n",
    "print(\"Top2相似物品：\")\n",
    "print(topN_items)"
   ],
   "metadata": {
    "collapsed": false,
    "ExecuteTime": {
     "end_time": "2023-11-14T15:15:39.065117Z",
     "start_time": "2023-11-14T15:15:39.045116500Z"
    }
   },
   "id": "58733655e17da48a"
  },
  {
   "cell_type": "code",
   "execution_count": 47,
   "outputs": [
    {
     "name": "stdout",
     "output_type": "stream",
     "text": [
      "最终推荐结果：\n",
      "{'User1': ['Item E', 'Item B'], 'User2': ['Item C', 'Item B'], 'User3': ['Item D', 'Item B'], 'User4': ['Item C', 'Item A'], 'User5': ['Item D']}\n"
     ]
    }
   ],
   "source": [
    "rs_results = {}\n",
    "# 构建推荐结果\n",
    "for user in df.index:  # 遍历所有用户\n",
    "    rs_result = set()\n",
    "    for item in df.loc[user].replace(0, np.nan).dropna().index:  # 取出每个用户当前已购物品列表\n",
    "        rs_result = rs_result.union(topN_items[item])\n",
    "    # 过滤掉用户已购的物品\n",
    "    rs_result -= set(df.loc[user].replace(0, np.nan).dropna().index)\n",
    "    # 添加到结果中\n",
    "    rs_results[user] = sorted(rs_result, reverse=True)\n",
    "\n",
    "print(\"最终推荐结果：\")\n",
    "print(rs_results)"
   ],
   "metadata": {
    "collapsed": false,
    "ExecuteTime": {
     "end_time": "2023-11-14T15:15:50.289941Z",
     "start_time": "2023-11-14T15:15:50.268944700Z"
    }
   },
   "id": "c6e9a69382f4f520"
  },
  {
   "cell_type": "code",
   "execution_count": null,
   "outputs": [],
   "source": [],
   "metadata": {
    "collapsed": false
   },
   "id": "fb1beffc511bee93"
  }
 ],
 "metadata": {
  "kernelspec": {
   "display_name": "Python 3",
   "language": "python",
   "name": "python3"
  },
  "language_info": {
   "codemirror_mode": {
    "name": "ipython",
    "version": 2
   },
   "file_extension": ".py",
   "mimetype": "text/x-python",
   "name": "python",
   "nbconvert_exporter": "python",
   "pygments_lexer": "ipython2",
   "version": "2.7.6"
  }
 },
 "nbformat": 4,
 "nbformat_minor": 5
}
